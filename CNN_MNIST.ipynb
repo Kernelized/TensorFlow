{
 "cells": [
  {
   "cell_type": "markdown",
   "metadata": {},
   "source": [
    "<h1 align=\"center\">Redes Neuronales Convolucionales con TensorFlow</h1> \n",
    "\n",
    "<img src=\"Imagenes/tf.png\",width=200,height=200, align=\"center\">"
   ]
  },
  {
   "cell_type": "markdown",
   "metadata": {},
   "source": [
    "*Realizado por Ana Arias, Miguel Arnaiz y Alejandro Gómez* "
   ]
  },
  {
   "cell_type": "markdown",
   "metadata": {},
   "source": [
    "## Redes neuronales: perceptrón, sigmoidal, softmax"
   ]
  },
  {
   "cell_type": "markdown",
   "metadata": {},
   "source": [
    "Como el nombre indica, la red neuronal comenzó con la idea de imitar el funcionamiento de las redes neuronales de los organismos vivos: un conjunto de neuronas conectadas entre sí y que trabajan en conjunto, sin que haya una tarea concreta para cada una. Con la experiencia, las neuronas van creando y reforzando ciertas conexiones para \"aprender\" algo que se queda fijo en el tejido. Las redes neuronales son un modelo para encontrar esa combinación de parámetros y aplicarla al mismo tiempo. En el lenguaje propio, encontrar la combinación que mejor se ajusta es \"entrenar\" la red neuronal. Una red ya entrenada se puede usar luego para hacer predicciones o clasificaciones.\n",
    "\n",
    "Las redes neuronales han ido moviéndose para tener un foco en matemáticas y estadística. Se basan en una idea sencilla: dados unos parámetros hay una forma de combinarlos para predecir un cierto resultado. Por ejemplo, sabiendo los píxeles de una imagen habrá una forma de saber qué número hay escrito.\n",
    "\n",
    "Para empezar, explicaremos el tipo de red neuronal artificial más sencilla: el perceptrón, con el objetivo de poder entender otro tipo de redes neuronales más complejas empleadas en el trabajo. Un perceptrón es un elemento que tiene varias entradas con un cierto peso cada una. Si la suma de esas entradas por cada peso es mayor que un determinado número, la salida del perceptrón es un uno. Si es menor, la salida es un cero.\n",
    "Un perceptrón toma varias entradas binarias, x1, x2,..., xn y produce una única salida binaria:\n",
    "\n",
    "<img src=\"Imagenes/percep1.png\",width=200,height=200,align=\"center\">"
   ]
  },
  {
   "cell_type": "markdown",
   "metadata": {},
   "source": [
    "Se introducen pesos, w1, w2,..., wn que son números reales que expresan la importancia de las entradas respectivas a la salida. Al igual que los pesos, el threshold o umbral es un número real que representa un parámetro de la neurona. Para ponerlo en términos algebraicos más precisos:\n",
    "\n",
    "<img src=\"Imagenes/percep2.png\",width=300,height=300,align=\"center\">"
   ]
  },
  {
   "cell_type": "markdown",
   "metadata": {},
   "source": [
    "El problema del uso del perceptrón es que el sesgo de un solo perceptrón en la red a veces puede hacer que la salida cambie por completo el resultado. \n",
    "\n",
    "Se puede superar este problema mediante la introducción de neuronas artificiales como son las sigmoideas y las softmax. Estas redes neuronales son de tipo feedforward en la que la información fluye en una única dirección, desde la capa de entrada a la de salida a través de las capas ocultas. No hay caminos cíclicos entre las conexiones. \n",
    "\n",
    "Las neuronas sigmoideas son similares a los perceptrones, pero se modifican para que pequeños cambios en sus pesos y sesgos causen solo un pequeño cambio en su producción. Ese es el hecho crucial que permitirá que una red de neuronas sigmoideas aprenda.\n",
    "\n",
    "Al igual que un perceptrón, la neurona sigmoidea tiene entradas, x1, x2,… Pero en lugar de ser solo 0 u 1, estas entradas también pueden tomar valores entre 0 y 1. También al igual que un perceptrón, la neurona sigmoidea tiene pesos para cada entrada, w1, w2,... y un sesgo general, b. Pero la salida no es 0 u 1. En cambio, es σ (wx + b), donde σ se llama función sigmoidea.\n",
    "\n",
    "<img src=\"Imagenes/sig1.png\",width=350,height=350,align=\"center\">"
   ]
  },
  {
   "cell_type": "markdown",
   "metadata": {},
   "source": [
    "La suavidad de σ significa que pequeños cambios Δwj en los pesos y Δb en el sesgo producirán un pequeño cambio Δoutput en la salida de la neurona. De hecho, el cálculo nos dice que Δoutput se aproxima bien a:\n",
    "\n",
    "<img src=\"Imagenes/sig2.png\",width=300,height=300,align=\"center\">"
   ]
  },
  {
   "cell_type": "markdown",
   "metadata": {},
   "source": [
    "Para cada salida se calcula la diferencia entre la respuesta correcta y la obtenida y se reajustan hacia atrás de manera que se minimice el error buscando el mínimo mediante el método del descenso del gradiente incremental (o estocástico). Se trata ahora de encontrar las mejores aproximaciones a los valores de W y b, a partir de los datos de entrada. Para ello se modifican los valores W y b en cada iteración para acercarnos a la respuesta. Para saber si vamos mejorando en estas iteraciones utilizamos una función de coste o función de error que mide cómo se ajusta la recta generada a los datos de que disponemos.\n",
    "\n",
    "Esto puede ser útil, por ejemplo, si queremos usar el valor de salida para representar la intensidad promedio de los píxeles en una entrada de imagen a una red neuronal. Supongamos que queremos que la salida de la red indique \"la imagen de entrada es un 9\" o \"la imagen de entrada no es un 9\". Obviamente, sería más fácil hacer esto si la salida fuera 0 o 1, como en un perceptrón. Pero en la práctica podemos establecer una convención para tratar esto, por ejemplo, al decidir interpretar cualquier salida de al menos 0.5 como indicando un \"9\", y cualquier salida menor que 0.5 como indicando \"no un 9\".\n",
    "\n",
    "Por último las redes neuronales con función de activación softmax funcionan de manera similar a las redes neuronales sigmoideas pero sirven para clasificar problemas multiclase donde se obtienen probabilidades para las diferentes clases. La función de salida que se aplica es:\n",
    "\n",
    "<img src=\"Imagenes/soft1.png\",width=250,height=250,align=\"center\">"
   ]
  },
  {
   "cell_type": "markdown",
   "metadata": {},
   "source": [
    "## Introducción al problema"
   ]
  },
  {
   "cell_type": "markdown",
   "metadata": {},
   "source": [
    "Nuestro cerebro ha sido sintonizado por la evolución a lo largo de cientos de millones de años, y adaptado para comprender el mundo visual. Reconocer dígitos escritos a mano no es fácil. Más bien, nosotros los humanos somos increíblemente buenos para dar sentido a lo que nuestros ojos nos muestran. Pero casi todo ese trabajo se hace inconscientemente. Por lo tanto, generalmente no apreciamos lo difícil que es resolver nuestros sistemas visuales.\n",
    "\n",
    "\n",
    "Las intuiciones simples sobre cómo reconocemos las formas - \"un 9 tiene un bucle en la parte superior y un trazo vertical en la parte inferior derecha\" - resultan no ser tan simples de expresar algorítmicamente. Cuando tratas de hacer que tales reglas sean precisas, te pierdes rápidamente en un cúmulo de excepciones y casos especiales. \n",
    "\n",
    "Las redes neuronales abordan el problema de una manera diferente. La idea es tomar una gran cantidad de dígitos escritos a mano, conocidos como ejemplos de entrenamiento y luego desarrollar un sistema que pueda aprender de esos ejemplos de entrenamiento.\n",
    "\n",
    "<img src=\"Imagenes/numerosMNIST.png\",width=350,height=350,align=\"center\">"
   ]
  },
  {
   "cell_type": "markdown",
   "metadata": {},
   "source": [
    "La red neuronal usa los ejemplos para inferir automáticamente reglas para reconocer dígitos escritos a mano. Además, al aumentar el número de ejemplos de capacitación, la red puede aprender más sobre la escritura a mano, y así mejorar su precisión. Cuanto mayor sea la cantidad de ejemplos con los que entrenar la red neuronal, mejor aprenderá.\n",
    "\n",
    "A continuación, vamos a programar una red neuronal de aprendizaje profundo para solventar el problema de reconocimiento de dígitos mediante imágenes con la librería TensorFlow de Google. "
   ]
  },
  {
   "cell_type": "markdown",
   "metadata": {},
   "source": [
    "## Introducción teórica e intuitiva al funcionamiento de las RNC"
   ]
  },
  {
   "cell_type": "markdown",
   "metadata": {},
   "source": [
    "En el siguiente esquema se muestra el proceso de reconocimiento de una imagen que nunca ha sido vista por la red neuronal. Este esquema servirá de ayuda para explicar el funcionamiento de una RNC. Es necesario decir de antemano que los procesos que se realizan a continuación son de una complejidad elevada, y se intentará explicarlo de la forma más clara posible."
   ]
  },
  {
   "cell_type": "markdown",
   "metadata": {},
   "source": [
    "<img src=\"Imagenes/ResumenRNC.png\",width=800,height=800,align=\"center\">"
   ]
  },
  {
   "cell_type": "markdown",
   "metadata": {},
   "source": [
    "Como puede observarse, la red neuronal recibe la imagen de un número 7. En este paso, las neuronas de entrada son el número de pixels en la imagen. Como se ha comentado anteriormente, la imagen ha sido tratada para centrarla en un espacio de 28x28, por tanto, en el inicio se encuentran 784 neuronas que reciben un input en forma de pixel (cada neurona es un pixel, y el pixel es un número que se identifica con la intensidad de la trazada en la imagen). A continuación, se encuentra la primera capa oculta de neuronas o *hidden layer*. Esta capa está formada por 16 neuronas que albergan 25 pixels en formato de 5x5 (estos hiperparámetros son decisión del diseñador de la RNC). Cada neurona se conoce bajo la denominación de filtro, pesos o kernel, y representa una característica concreta de las imágenes. Cada filtro, recorrerá la imagen en función de un parámetro conocido como *window stride*. Este parámetro son los pasos que avanza el filtro una vez examinada una región 5x5 de la imagen original. En cada paso, la neurona recoge información sobre la similitud entre el patrón que busca y la imagen original, obteniendo una nueva imagen tras haber terminado el proceso de examinación.\n",
    "\n",
    "Por ejemplo, el primer filtro (*Convolutional Layer 1*, neurona 5x5, situada en la zona de la esquina superior izquierda del recuadro) ha recorrido toda la imagen del 7, paso a paso (en función del *window stride*) recopilando información acerca de si la característica que se estudia está representada en la imagen. Tras haber finalizado, se da un proceso de activación y reducción -que será explicado más adelante-, resultando una nueva imagen de menor tamaño y procesada por una neurona (a la derecha del recuadro del *Convolutional Layer 1*, la imagen de 14x14 situada en en la esquina superior izquierda con forma de siete). Como puede observarse se tienen 16 filtros, y el output son 16 imágenes nuevas de 14x14, por ello, cada filtro, kernel o neurona, ha realizado este mismo proceso de reconocimiento devolviendo una nueva imagen. "
   ]
  },
  {
   "cell_type": "markdown",
   "metadata": {},
   "source": [
    "A continuación, esas imágenes (outputs de la primera capa oculta) se convierten en el input de una nueva capa oculta -que se encuentra en una zona superior a la primera-. Por lo tanto, se introdujo una nueva imagen a las neuronas de entrada, se crearon un grupo 16 neuronas que eran filtros o kernels, y su output fueron 16 nuevas imágenes. El proceso en la segunda capa oculta es más complejo. Dado que existen 16 imágenes, debe haber 16 grupos de neuronas que estudien las características de las imágenes. A continuación, se especifica el tamaño de cada grupo: 36 neuronas (como en la capa anterior, a voluntad del diseñador de la red neuronal). Por lo tanto, en esta capa se encuentran 576 neuronas artificiales que funcionan de filtros de tamaño 5x5. A la hora de estudiar la primera imagen, la primera neurona (filtro de 5x5) del grupo 1 situada en la esquina superior izquierda, estudia el primer conjunto de 5x5 píxeles superior izquierda de la imagen de 14X14 situada en la esquina superior izquierda del conjutno de imágenes que fueron el output de la primera capa, y esta neurona almacena la información recibida. La primera neurona del segundo grupo realiza este mismo proceso para la neurona contigua a la anterior estudiada (a la derecha de la primera imagen 14x14), la primera neurona del tercer grupo realiza lo mismo, y del cuarto grupo, y del quinto... \n",
    "\n",
    "Este proceso continúa hasta que \"todas las primeras neuronas de cada grupo\" estudian todos los primeros 5x5 píxeles situados en las esquina superiores izquierdas de cada imagen de 14x14. Tras este proceso, se ha calculado tan solo el primer pixel de la primera imágen de 7x7 que se encuentra (en el esquema) a la derecha de la segunda capa oculta. Para calcular el segundo pixel, este conjunto de neuronas 5x5 primeras de cada grupo estudiará el segundo conjunto de 5x5 de la misma imagen (es decir, da un salto o *window stride* hacia la derecha en la primera imágen de 14x14, dado que el primer conjunto 5x5 ya ha sido estudiado por todas las primeras neuronas). Tras haberse aplicado este proceso, se habrá calculado el segundo pixel de la imagen 7x7 situada a la izquierda de la segunda capa oculta. Esto termina cuando todas las neuronas han recorrido todas las imágenes, y el output son 36 nuevas imágenes. (Véase como de la primera primera imagen con 16 filtros, se obtenían 16 nuevas imágenes; en este caso, se tienen 16 grupos apilados de 36 en 36 neuronas, y por ello, se obtiene como output 36 nuevas imágenes)."
   ]
  },
  {
   "cell_type": "markdown",
   "metadata": {},
   "source": [
    "Por último, tras haber obtenido 36 nuevas imágenes que muestran características o rasgos concretos de la imagen que se está analizando, estas se transmiten a lo que se conoce como *Fully-Connected Layer*. Las imágenes generadas en las capas ocultas ofrecen un espacio de características significativo pero sin mucha variabilidad. Si estas son aplanadas y convertidas a vectores, esta nueva capa puede aprender relaciones no-lineales entre las características estudiadas. Finalmente, mendiante funciones de clasificación que se verán más adelante, se le asignan probabilidades a los distintos números, y aquel que mayor probabilidad reciba, es la solución final. En el caso del esquema, puede observarse como que se un 7 recibe un 80% de probabilidad, y por tanto, la decisión acertada por la red neuronal es que la imagen representa un número 7. En este contexto, cabe destacar que aunque la inteligencia humana pueda asegurar sin prácticamente ningún esfuerzo cognitivo que ese número es un 7, la red neuronal nunca podrá afirmar este hecho con total seguridad, dado que la base de su actuación es reconocer características y patrones específicos de cada imagen. "
   ]
  },
  {
   "cell_type": "markdown",
   "metadata": {},
   "source": [
    "Como puede apreciarse, los procesos internos que realiza la red neuronal para reconocer una nueva imagen son muy complejos, resultando un verdadero reto realizar una explicación concisa de su funcionamiento."
   ]
  },
  {
   "cell_type": "markdown",
   "metadata": {},
   "source": [
    "## Convolution, Rectifier Linear Unit y Pooling"
   ]
  },
  {
   "cell_type": "markdown",
   "metadata": {},
   "source": [
    "Para comprender el funcionamiento de una Red Neuronal Convolucional (RNC) es necesario entender tres procesos que ocurren en las capas ocultas de la RNC. Estos procesos son de vital importancia en la fase de reconocimiento, y se conocen como \"Convolution\", \"Rectifier Linear Unit\" y \"Pooling\" (en castellano podría traducirse como convolución, activación y reducción)."
   ]
  },
  {
   "cell_type": "markdown",
   "metadata": {},
   "source": [
    "### Convolution"
   ]
  },
  {
   "cell_type": "markdown",
   "metadata": {},
   "source": [
    "Básicamente, la convolución es una operación matemática de productos, sumas y divisiones entre la imagen de entrada y un ﬁltro o kernel, que genera un mapa de características. Como se ha explicado anteriormente, cada neurona o filtro extrae la característica que estudia en cada parte de la imagen, reduciendo el número de conexiones que se tendrían frente a un estudio pixel a pixel. Por ello, si la imagen de entrada es de 28x28 y los filtros de 5x5 -como en el ejemplo que se está realizando-, el mapa estaría recogiendo (28-5 + 1)×(28-5 +1) = 576 características, es decir, un mapa de dimension 24x24.\n",
    "\n",
    "Esta imagen puede ser de ayuda para entender el proceso:"
   ]
  },
  {
   "cell_type": "markdown",
   "metadata": {},
   "source": [
    "<img src=\"Imagenes/convolution.png\",width=400,height=400, align=\"center\">"
   ]
  },
  {
   "cell_type": "markdown",
   "metadata": {},
   "source": [
    "### Rectifier Linear Unit"
   ]
  },
  {
   "cell_type": "markdown",
   "metadata": {},
   "source": [
    "El Rectifier Linear Unit -también conocido por sus siglas ReLu- es una función de activación para los mapas producidos durante el proceso de convolución. Para simplificar la explicación, esta función consiste básicamente en transformar los números negativos resultado de la convolución en valores nulos (es decir, en ceros). Esto facilita el aprendizaje de la red neuronal ya que se tratan únicamente números positivos y la insentisad varía únicamente de forma ascendente. Esta función plantea algunos promblemas, dado que se pierde información sobre la característica que es estudia, y puede llevar a la extención de alguna neurona durante la optimización cuando la tasa de aprendizaje es alta y el descenso del gradiente intenta modificar los pesos, de forma que la neurona puede no activarse para ninguna de las imágenes de entrenamiento (en la convolución siempre se anotan número negativos sobre el mapa). No se quiere entrar en detalle en este aspecto, pero resulta de mucho interés. \n",
    "\n",
    "En conclusión, es una función transformadora de activación que simplifica el análisis y facilita el aprendizaje. Un ejemplo gráfico e intuitivo sería el siguiente:\n",
    "\n",
    "<img src=\"Imagenes/relus.png\",width=600,height=600, align=\"center\">"
   ]
  },
  {
   "cell_type": "markdown",
   "metadata": {},
   "source": [
    "### Pooling"
   ]
  },
  {
   "cell_type": "markdown",
   "metadata": {},
   "source": [
    "Tras obtener los mapas de características se podrían mandar los resultados a la siguiente capa oculta, sin embargo, estos son demasiado grandes para su procesamiento y además podría llevar al overfitting dado que contienen mucha información. Para ello, existe un técnica de reducción de la imagen que, además, es un complemento perfecto para evitar que la red neuronal memorice los rasgos característicos de cada imagen con la que se entrena. Esta técnica se denomina Pooling. Básicamente consiste en realizar operaciones matemáticas simples sobre un conjunto de pixels del mapa de factores. Se podría tratar utilizando la media, mediana o máximo según prefiera el diseñador de la red neuronal. El formato de uso más común se conoce como MaxPooling, mediante el cual, de un conjunto de pixels se escoge aquel de mayor intensidad para el pixel de la nueva imagen. En el caso que nos ocupa, el mapa de características resultante de la primera capa tenía unas dimensiones de 24x24, y tras el Pooling, se transforma a un 14x14. \n",
    "\n",
    "Gráficamente con un ejemplo sencillo la explicación resulta más intuitiva: \n",
    "\n",
    "<img src=\"Imagenes/maxPooling.png\",width=600,height=600, align=\"center\">"
   ]
  },
  {
   "cell_type": "markdown",
   "metadata": {},
   "source": [
    "Como apunte final antes de comenzar con el diseño de la RNC, véase como estos tres procesos son la piedra angular del funcionamiento de la Red Neuronal Convolucional. En el caso concreto que se va a desarrollar, estos procesos se reptetirán dos veces, una vez por cada capa oculta hasta llegar a la *Fully-Connected Layer*."
   ]
  },
  {
   "cell_type": "markdown",
   "metadata": {},
   "source": [
    "## Importación de librerías"
   ]
  },
  {
   "cell_type": "markdown",
   "metadata": {},
   "source": [
    "**Nota técnica**: *En el caso de que se quiera reproducir los resultados, la red neuronal ha sido diseñada utilizando un contenedor en Docker que garantize el aislamiento de las funciones de TensorFlow y no entre en conflicto con sistemas como Anaconda. El código está escrito en Python 3 y la versión de TensorFlow es 1.4.1. Al final de este documento se adjunta la documentación oficial para el proceso de instalación*"
   ]
  },
  {
   "cell_type": "code",
   "execution_count": 105,
   "metadata": {},
   "outputs": [],
   "source": [
    "%matplotlib inline\n",
    "import matplotlib.pyplot as plt\n",
    "import tensorflow as tf\n",
    "import numpy as np\n",
    "from sklearn.metrics import confusion_matrix\n",
    "import time\n",
    "from datetime import timedelta\n",
    "import math"
   ]
  },
  {
   "cell_type": "code",
   "execution_count": 106,
   "metadata": {},
   "outputs": [
    {
     "data": {
      "text/plain": [
       "'1.4.1'"
      ]
     },
     "execution_count": 106,
     "metadata": {},
     "output_type": "execute_result"
    }
   ],
   "source": [
    "tf.__version__"
   ]
  },
  {
   "cell_type": "markdown",
   "metadata": {},
   "source": [
    "## Configuración de la red neuronal"
   ]
  },
  {
   "cell_type": "markdown",
   "metadata": {},
   "source": [
    "Los hiperparámetros de la Red Neuronal Convolucional se definen aquí. De este modo, es sencillo cambiarlos y volver a correr todo el código para experimentar."
   ]
  },
  {
   "cell_type": "code",
   "execution_count": 107,
   "metadata": {},
   "outputs": [],
   "source": [
    "# Capa convolucional 1.\n",
    "filter_size1 = 5          # Cada filtro de esta primera capa es de  5 x 5 pixels.\n",
    "num_filters1 = 16         # Hay un total de 16 filtros.\n",
    "\n",
    "# Capa convolucional 2.\n",
    "filter_size2 = 5          # Cada filtro de esta primera capa es de  5 x 5 pixels.\n",
    "num_filters2 = 36         # Hay un total de 36 filtros.\n",
    "\n",
    "# Fully-Connected Layer.\n",
    "fc_size = 128             # Número de neuronas en la Fully-Connected Layer."
   ]
  },
  {
   "cell_type": "markdown",
   "metadata": {},
   "source": [
    "## Carga de datos"
   ]
  },
  {
   "cell_type": "markdown",
   "metadata": {},
   "source": [
    "El dataset de MNIST pesa 12 MB y se descarga automáticamente con el siguiente comando."
   ]
  },
  {
   "cell_type": "code",
   "execution_count": 108,
   "metadata": {},
   "outputs": [
    {
     "name": "stdout",
     "output_type": "stream",
     "text": [
      "Extracting data/MNIST/train-images-idx3-ubyte.gz\n",
      "Extracting data/MNIST/train-labels-idx1-ubyte.gz\n",
      "Extracting data/MNIST/t10k-images-idx3-ubyte.gz\n",
      "Extracting data/MNIST/t10k-labels-idx1-ubyte.gz\n"
     ]
    }
   ],
   "source": [
    "from tensorflow.examples.tutorials.mnist import input_data\n",
    "data = input_data.read_data_sets('data/MNIST/', one_hot=True)"
   ]
  },
  {
   "cell_type": "markdown",
   "metadata": {},
   "source": [
    "El conjunto de datos MNIST ya está cargado y consta de 70,000 imágenes y sus repectivas etiquetas (es decir, clasificaciones de las imágenes). El conjunto de datos se divide en 3 subconjuntos mutuamente excluyentes. \n",
    "\n",
    "**Nota:** *En este ejercicio, dada su longitud, no se va a utilizar la muestra de validación*"
   ]
  },
  {
   "cell_type": "code",
   "execution_count": 109,
   "metadata": {},
   "outputs": [
    {
     "name": "stdout",
     "output_type": "stream",
     "text": [
      "Size of:\n",
      "- Training-set:\t\t55000\n",
      "- Test-set:\t\t10000\n",
      "- Validation-set:\t5000\n"
     ]
    }
   ],
   "source": [
    "print(\"Size of:\")\n",
    "print(\"- Training-set:\\t\\t{}\".format(len(data.train.labels)))\n",
    "print(\"- Test-set:\\t\\t{}\".format(len(data.test.labels)))\n",
    "print(\"- Validation-set:\\t{}\".format(len(data.validation.labels)))"
   ]
  },
  {
   "cell_type": "markdown",
   "metadata": {},
   "source": [
    "Las etiquetas de clase están codificadas por el método One-Hot, lo que significa que cada etiqueta es un vector con 10 elementos, todos los cuales son cero excepto uno. El índice de este elemento es el número de clase, es decir, el dígito que se muestra en la imagen asociada. También se necesitan los números de clase como enteros para el conjunto de test, por lo que se calcula a continuación."
   ]
  },
  {
   "cell_type": "code",
   "execution_count": 110,
   "metadata": {},
   "outputs": [],
   "source": [
    "data.test.cls = np.argmax(data.test.labels, axis=1)"
   ]
  },
  {
   "cell_type": "markdown",
   "metadata": {},
   "source": [
    "### Dimensiones de los datos"
   ]
  },
  {
   "cell_type": "markdown",
   "metadata": {},
   "source": [
    "Las dimensiones de datos van a utilizarse repetidamente a lo largo de todo el código. Se definen una vez para que podamos usar estas variables en lugar de números en todo el código fuente."
   ]
  },
  {
   "cell_type": "code",
   "execution_count": 111,
   "metadata": {},
   "outputs": [],
   "source": [
    "# Sabemos que las imágenes de MNIST son de 28 x 28 pixels.\n",
    "img_size = 28\n",
    "\n",
    "# Las imágenes están almacenadas en un array de esta dimensión.\n",
    "img_size_flat = img_size * img_size\n",
    "\n",
    "# La tupla de la altura y el ancho de las imágenes se usa para remodelar los arrays.\n",
    "img_shape = (img_size, img_size)\n",
    "\n",
    "# Número de canales de color para las imágenes: la escala de grises es un canal.\n",
    "num_channels = 1\n",
    "\n",
    "# Número de clases, una para cado uno de los 10 dígitos.\n",
    "num_classes = 10"
   ]
  },
  {
   "cell_type": "markdown",
   "metadata": {},
   "source": [
    "### Función para representar las imágenes\n"
   ]
  },
  {
   "cell_type": "markdown",
   "metadata": {},
   "source": [
    "Se define la siguiente función que traza 9 imágenes en una cuadrícula de 3x3, y escribe debajo de cada imagen tanto la predicción como el dígito que realmente es."
   ]
  },
  {
   "cell_type": "code",
   "execution_count": 112,
   "metadata": {},
   "outputs": [],
   "source": [
    "def plot_images(images, cls_true, cls_pred=None):\n",
    "    assert len(images) == len(cls_true) == 9\n",
    "    \n",
    "    # Crea una figura con 3x3 sub-plots.\n",
    "    fig, axes = plt.subplots(3, 3)\n",
    "    fig.subplots_adjust(hspace=0.3, wspace=0.3)\n",
    "\n",
    "    for i, ax in enumerate(axes.flat):\n",
    "        # Plot imagen.\n",
    "        ax.imshow(images[i].reshape(img_shape), cmap='binary')\n",
    "\n",
    "        # Muestra la predicción y la real.\n",
    "        if cls_pred is None:\n",
    "            xlabel = \"True: {0}\".format(cls_true[i])\n",
    "        else:\n",
    "            xlabel = \"True: {0}, Pred: {1}\".format(cls_true[i], cls_pred[i])\n",
    "\n",
    "        # Muestra las clasese en el eje X.\n",
    "        ax.set_xlabel(xlabel)\n",
    "        \n",
    "        # Elimina los ticks del gráfico.\n",
    "        ax.set_xticks([])\n",
    "        ax.set_yticks([])\n",
    "    \n",
    "    \n",
    "    plt.show()"
   ]
  },
  {
   "cell_type": "markdown",
   "metadata": {},
   "source": [
    "### Ejemplos de imágenes de la muestra de test"
   ]
  },
  {
   "cell_type": "code",
   "execution_count": 113,
   "metadata": {},
   "outputs": [
    {
     "data": {
      "image/png": "[encoded data removed]",
      "text/plain": [
       "<matplotlib.figure.Figure at 0x7f024646c320>"
      ]
     },
     "metadata": {},
     "output_type": "display_data"
    }
   ],
   "source": [
    "# Cogemos las primeras imágenes del test-set.\n",
    "images = data.test.images[0:9]\n",
    "\n",
    "# Sacamos la clase de cada imagen.\n",
    "cls_true = data.test.cls[0:9]\n",
    "\n",
    "# Representamos la imagen y las etiquetas con la función definida arriba.\n",
    "plot_images(images=images, cls_true=cls_true)"
   ]
  },
  {
   "cell_type": "markdown",
   "metadata": {},
   "source": [
    "### Función para crear nuevas variables\n"
   ]
  },
  {
   "cell_type": "markdown",
   "metadata": {},
   "source": [
    "Se definen las siguietes funciones para crear nuevas variables de TensorFlow en la forma dada e inicializarlas con valores aleatorios. Hay que tener en cuenta que la inicialización no se realiza en este punto, simplemente se está definiendo en el grafo de ejecución de TensorFlow. Inicialmente, la RNC posee unos filtros, pesos o kernels que son aleatorios, y con el proceso de entrenamiento y optimización -como se verá más adelante- una versión mejorada del Descenso del Gradiente minimizará la función de costes basada en los errores, modificando por tanto estos valores."
   ]
  },
  {
   "cell_type": "code",
   "execution_count": 114,
   "metadata": {},
   "outputs": [],
   "source": [
    "def new_weights(shape):\n",
    "    return tf.Variable(tf.truncated_normal(shape, stddev=0.05)) # Filtros o pesos"
   ]
  },
  {
   "cell_type": "code",
   "execution_count": 115,
   "metadata": {},
   "outputs": [],
   "source": [
    "def new_biases(length):\n",
    "    return tf.Variable(tf.constant(0.05, shape=[length])) \n",
    "# Esto es el sesgo de las neuronas, es decir, un parámetro que aporta ruido y aleatoriedad para evitar el overfitting."
   ]
  },
  {
   "cell_type": "markdown",
   "metadata": {},
   "source": [
    "### Función para crear una nueva capa convolucional"
   ]
  },
  {
   "cell_type": "markdown",
   "metadata": {},
   "source": [
    "La siguiente función crea una nueva capa convolucional para la red. Recuerdese que todavía no se está calculando nada, sólo se están añadiendo las fórmulas matemáticas al grafo de Tensorflow que se ejecutará más tarde.\n",
    "\n",
    "Se asume que que el input es un tensor de 4 dimensiones:\n",
    "\n",
    "  **1.** Número de la imagen.\n",
    "  \n",
    "  **2.** Eje Y de cada imagen.\n",
    "  \n",
    "  **3.** Eje X de cada imagen.\n",
    "  \n",
    "  **4.** Canales de cada imagen.\n",
    "\n",
    "Hay que tener en cuenta que los canales de entrada pueden ser canales de color o pueden ser canales de filtro si la entrada se produce a partir de una capa convolucional previa.\n",
    "\n",
    "El output es otro tensor de 4 dimensiones compuesto por:\n",
    "\n",
    " **1.** Número de la imagen.\n",
    " \n",
    " **2.** Eje Y de cada imagen. Si se usa la agrupación 2x2, entonces la altura y el ancho de las imágenes de entrada se divide por 2.\n",
    " \n",
    " **3.** Eje X de cada imagen. Ocurre lo mismo que en el eje Y.\n",
    " \n",
    " **4.** Canales producidos por los filtros convolucionales.\n",
    "\n"
   ]
  },
  {
   "cell_type": "code",
   "execution_count": 116,
   "metadata": {},
   "outputs": [],
   "source": [
    "def new_conv_layer(input,              # La capa previa.\n",
    "                   num_input_channels, # Num. canales de la capa previa.\n",
    "                   filter_size,        # Tamaño de cada filtro.\n",
    "                   num_filters,        # Número de filtros\n",
    "                   use_pooling=True):  # Uso 2x2 max-pooling.\n",
    "\n",
    "    # Damos forma a los pesos en los filtros.\n",
    "    shape = [filter_size, filter_size, num_input_channels, num_filters]\n",
    "\n",
    "    # Creamos nuevos pesos con la forma que acabamos de crear.\n",
    "    weights = new_weights(shape=shape)\n",
    "\n",
    "    # Creamos nuevos sesgos, uno para cada filtro.\n",
    "    biases = new_biases(length=num_filters)\n",
    "\n",
    "    # Vemos que los pasos se establecen en 1 en todas las dimensiones.\n",
    "    # El primer y último paso siempre debe ser 1,\n",
    "    # porque el primero es para el número de imagen y\n",
    "    # el último es para el canal de entrada.\n",
    "    # Los dos unos del medio significan que los filtros se mueven \n",
    "    # un pixel en el eje X y un pixel en el eje Y.\n",
    "    # El parámtro padding = SAME significa que la imagen que entra \n",
    "    # se rellena de ceros. De esta forma la figura de la salida será idéntica.\n",
    "    layer = tf.nn.conv2d(input=input,\n",
    "                         filter=weights,\n",
    "                         strides=[1, 1, 1, 1],\n",
    "                         padding='SAME')\n",
    "\n",
    "    # Añadimos el resultado del sesgo de cada filtro.\n",
    "    layer += biases\n",
    "\n",
    "    # Use pooling sirve para bajar la resolución de la imagen\n",
    "    if use_pooling:\n",
    "        # Se trata de 2x2 max-pooling. Esto significa que\n",
    "        # va cogiendo ventanas de 2x2 pixels, y toma el valor\n",
    "        # más alto de cada una, para luego moverse a la siguiente ventana.\n",
    "        layer = tf.nn.max_pool(value=layer,\n",
    "                               ksize=[1, 2, 2, 1],\n",
    "                               strides=[1, 2, 2, 1],\n",
    "                               padding='SAME')\n",
    "\n",
    "    # Utilizamos la ReLU para calcular el max (x,0) para cada input.\n",
    "    # Esto añade cierta no linealidad a la fórmula y permite aprender\n",
    "    # formas más complejas.\n",
    "    layer = tf.nn.relu(layer)\n",
    "\n",
    "\n",
    "    # Sacamos como resultado tanto la capa resultatne como sus pesos \n",
    "    # ya que graficaremos estos más adelante.\n",
    "    return layer, weights"
   ]
  },
  {
   "cell_type": "markdown",
   "metadata": {},
   "source": [
    "### Función para crear una nueva capa aplanada"
   ]
  },
  {
   "cell_type": "markdown",
   "metadata": {},
   "source": [
    "Una capa convolucional produce un tensor de salida con 4 dimensiones. Se añadirán capas completamente conectadas a la capa final (*Fully-Connected Layer*) después de las capas de convolución, por lo que se debe reducir el tensor de 4 dimensiones a 2 dimensiones para que se puede utilizar como entrada para la *Fully-Connected Layer*. Esto es lo que conseguimos en esta capa."
   ]
  },
  {
   "cell_type": "code",
   "execution_count": 117,
   "metadata": {},
   "outputs": [],
   "source": [
    "def flatten_layer(layer):\n",
    "    # Cogemos la estructura de la capa de inputs.\n",
    "    layer_shape = layer.get_shape()\n",
    "\n",
    "    # Esta estrucutura se presupone que es:\n",
    "    # layer_shape == [num_images, img_height, img_width, num_channels]\n",
    "\n",
    "    # Número de componentes: img_height * img_width * num_channels\n",
    "    # Podemos hacer este cálculo con una función propia de TensorFlow.\n",
    "    num_features = layer_shape[1:4].num_elements()\n",
    "    \n",
    "    # Reestructuramos la capa en: [num_images, num_features].\n",
    "    # Tenga en cuenta que simplemente establecemos el tamaño\n",
    "    # de la segunda dimensión en num_features y el tamaño de la primera dimensión en -1.\n",
    "    \n",
    "    layer_flat = tf.reshape(layer, [-1, num_features])\n",
    "\n",
    "    # La forma de la capa aplanada es :\n",
    "    # [num_images, img_height * img_width * num_channels]\n",
    "\n",
    "    # Devuelve la capa \"aplanada\" y el número de características.\n",
    "    return layer_flat, num_features"
   ]
  },
  {
   "cell_type": "markdown",
   "metadata": {},
   "source": [
    "### Función para crear una capa totalmente conectada"
   ]
  },
  {
   "cell_type": "markdown",
   "metadata": {},
   "source": [
    "Esta función crea una nueva *Fully-Connected Layer* en el grafo computacional para TensorFlow. Se supone que la entrada es un tensor de 2 dim de forma `[num_images, num_inputs]`. La salida es un tensor de 2 dim de forma `[num_images, num_outputs]`."
   ]
  },
  {
   "cell_type": "code",
   "execution_count": 118,
   "metadata": {},
   "outputs": [],
   "source": [
    "def new_fc_layer(input,          # La capa anterior.\n",
    "                 num_inputs,     # Num. inputs de la capa anterior.\n",
    "                 num_outputs,    # Num. outputs.\n",
    "                 use_relu=True): # Utiliza la ReLU.\n",
    "\n",
    "    # Crea nuevos pesos y sesgos.\n",
    "    weights = new_weights(shape=[num_inputs, num_outputs])\n",
    "    biases = new_biases(length=num_outputs)\n",
    "\n",
    "    # Calcule la capa como la multiplicación de la matriz de la entrada y los pesos.\n",
    "    # Luego agregue los valores de sesgo.\n",
    "    layer = tf.matmul(input, weights) + biases\n",
    "\n",
    "    # Uso ReLU.\n",
    "    if use_relu:\n",
    "        layer = tf.nn.relu(layer)\n",
    "\n",
    "    return layer"
   ]
  },
  {
   "cell_type": "markdown",
   "metadata": {},
   "source": [
    "### Placeholder variables\n"
   ]
  },
  {
   "cell_type": "markdown",
   "metadata": {},
   "source": [
    "Las *placeholder varaibles* sirven como entrada al grafo computacional de TensorFlow, que se pueden cambiar cada vez que se ejecuta el grafo de TensorFlow. Llamamos a esto alimentar las *placeholder variables*."
   ]
  },
  {
   "cell_type": "markdown",
   "metadata": {},
   "source": [
    "Primero se define la *placeholder variable* para las imágenes de entrada. Esto permite cambiar las imágenes que se ingresan a TensorFlow. Este es un tensor, lo que significa que es un vector o matriz multidimensional. El tipo de datos se establece en float32 y la forma se establece en [None, img_size_flat], donde None significa que el tensor puede contener un número arbitrario de imágenes, siendo cada imagen un vector de longitud img_size_flat."
   ]
  },
  {
   "cell_type": "code",
   "execution_count": 119,
   "metadata": {},
   "outputs": [],
   "source": [
    "x = tf.placeholder(tf.float32, shape=[None, img_size_flat], name='x')"
   ]
  },
  {
   "cell_type": "markdown",
   "metadata": {},
   "source": [
    "Las capas convolucionales esperan que x se codifique como un tensor de 4 dimensiones, por lo que se debe remodelar para que su forma sea [num_images, img_height, img_width, num_channels]. Debe tenerse en cuenta que img_height == img_width == img_size y num_images se pueden inferir automáticamente utilizando -1 para el tamaño de la primera dimensión. Entonces la operación de remodelación es:"
   ]
  },
  {
   "cell_type": "code",
   "execution_count": 120,
   "metadata": {},
   "outputs": [],
   "source": [
    "x_image = tf.reshape(x, [-1, img_size, img_size, num_channels])"
   ]
  },
  {
   "cell_type": "markdown",
   "metadata": {},
   "source": [
    "A continuación se crea la *placeholder variable* para las etiquetas verdaderas asociadas con las imágenes que se ingresaron en el input de posición x. La forma de esta *placeholder variable* es `[Ninguno, num_clases]` lo que significa que puede contener un número arbitrario de etiquetas y cada etiqueta es un vector de longitud *num_clases*, que es 10 en este caso."
   ]
  },
  {
   "cell_type": "code",
   "execution_count": 25,
   "metadata": {},
   "outputs": [],
   "source": [
    "y_true = tf.placeholder(tf.float32, shape=[None, num_classes], name='y_true')"
   ]
  },
  {
   "cell_type": "markdown",
   "metadata": {},
   "source": [
    "También se podría tener una *placeholder variable* para el número de clase del que se trata el input, pero en cambio la calcularemos usando argmax. Hay que tener en cuenta que esto es un operador TensorFlow, por lo que no se calcula nada en este punto."
   ]
  },
  {
   "cell_type": "code",
   "execution_count": 26,
   "metadata": {},
   "outputs": [],
   "source": [
    "y_true_cls = tf.argmax(y_true, axis=1)"
   ]
  },
  {
   "cell_type": "markdown",
   "metadata": {},
   "source": [
    "### Capa convolucional 1"
   ]
  },
  {
   "cell_type": "markdown",
   "metadata": {},
   "source": [
    "Se crea la primera capa convolucional. Toma *x_image* como entrada y crea *num_filters1* filtros diferentes, cada uno con ancho y alto igual a filter_size1. Finalmente, se desea reducir la muestra de la imagen para que tenga la mitad del tamaño utilizando el máximo de 2x2 (proceso de Pooling)."
   ]
  },
  {
   "cell_type": "code",
   "execution_count": 121,
   "metadata": {},
   "outputs": [],
   "source": [
    "layer_conv1, weights_conv1 = \\\n",
    "    new_conv_layer(input=x_image,\n",
    "                   num_input_channels=num_channels,\n",
    "                   filter_size=filter_size1,\n",
    "                   num_filters=num_filters1,\n",
    "                   use_pooling=True)"
   ]
  },
  {
   "cell_type": "markdown",
   "metadata": {},
   "source": [
    "Se verifica la forma del tensor que saldrá por la capa convolucional. Es (?, 14, 14, 16) lo que significa que hay un número arbitrario de imágenes (esto es lo que dignifica el ?). Cada imagen tiene 14 píxeles de ancho y 14 píxeles de alto, y hay 16 canales diferentes, uno por cada filtro."
   ]
  },
  {
   "cell_type": "code",
   "execution_count": 122,
   "metadata": {},
   "outputs": [
    {
     "data": {
      "text/plain": [
       "<tf.Tensor 'Relu_3:0' shape=(?, 14, 14, 16) dtype=float32>"
      ]
     },
     "execution_count": 122,
     "metadata": {},
     "output_type": "execute_result"
    }
   ],
   "source": [
    "layer_conv1"
   ]
  },
  {
   "cell_type": "markdown",
   "metadata": {},
   "source": [
    "### Capa convolucional 2"
   ]
  },
  {
   "cell_type": "markdown",
   "metadata": {},
   "source": [
    "Se crea la segunda capa convolucional, que toma como entrada la salida de la primera capa. La cantidad de canales de entrada corresponde a la cantidad de filtros en la primera capa convolucional."
   ]
  },
  {
   "cell_type": "code",
   "execution_count": 123,
   "metadata": {},
   "outputs": [],
   "source": [
    "layer_conv2, weights_conv2 = \\\n",
    "    new_conv_layer(input=layer_conv1,\n",
    "                   num_input_channels=num_filters1,\n",
    "                   filter_size=filter_size2,\n",
    "                   num_filters=num_filters2,\n",
    "                   use_pooling=True)"
   ]
  },
  {
   "cell_type": "markdown",
   "metadata": {},
   "source": [
    "Se verifica la forma del tensor que saldrá de esta capa convolucional. La forma es (?, 7, 7, 36) donde el ? nuevamente significa que hay un número arbitrario de imágenes, cada imagen tiene un ancho y una altura de 7 píxeles, y hay 36 canales."
   ]
  },
  {
   "cell_type": "code",
   "execution_count": 124,
   "metadata": {},
   "outputs": [
    {
     "data": {
      "text/plain": [
       "<tf.Tensor 'Relu_4:0' shape=(?, 7, 7, 36) dtype=float32>"
      ]
     },
     "execution_count": 124,
     "metadata": {},
     "output_type": "execute_result"
    }
   ],
   "source": [
    "layer_conv2"
   ]
  },
  {
   "cell_type": "markdown",
   "metadata": {},
   "source": [
    "### Capa aplanada"
   ]
  },
  {
   "cell_type": "markdown",
   "metadata": {},
   "source": [
    "Las capas convolucionales generan tensores de 4 dimensiones. Ahora se quiere utilizar estos como entrada en una capa aplanda, que requiere que los tensores sean reformados a tensores de 2 dimensiones."
   ]
  },
  {
   "cell_type": "code",
   "execution_count": 125,
   "metadata": {},
   "outputs": [],
   "source": [
    "layer_flat, num_features = flatten_layer(layer_conv2)"
   ]
  },
  {
   "cell_type": "markdown",
   "metadata": {},
   "source": [
    "Se verifica que los tensores ahora tengan forma (?, 1764) lo que significa que hay un número arbitrario de imágenes que se han redimensionado a vectores de longitud de 1764 cada uno. Hay que tener en cuenta que 1764 = 7 x 7 x 36."
   ]
  },
  {
   "cell_type": "code",
   "execution_count": 126,
   "metadata": {},
   "outputs": [
    {
     "data": {
      "text/plain": [
       "<tf.Tensor 'Reshape_6:0' shape=(?, 1764) dtype=float32>"
      ]
     },
     "execution_count": 126,
     "metadata": {},
     "output_type": "execute_result"
    }
   ],
   "source": [
    "layer_flat"
   ]
  },
  {
   "cell_type": "code",
   "execution_count": 127,
   "metadata": {},
   "outputs": [
    {
     "data": {
      "text/plain": [
       "1764"
      ]
     },
     "execution_count": 127,
     "metadata": {},
     "output_type": "execute_result"
    }
   ],
   "source": [
    "num_features"
   ]
  },
  {
   "cell_type": "markdown",
   "metadata": {},
   "source": [
    "### *Fully-Connected Layer* 1"
   ]
  },
  {
   "cell_type": "markdown",
   "metadata": {},
   "source": [
    "Se agrega una *Fully-Connected Layer* a la red. La entrada es la capa aplanada de la convolución previa. La cantidad de neuronas en la capa totalmente conectada es `fc_size`. Se utiliza la función ReLU para que pueda aprender relaciones no lineales."
   ]
  },
  {
   "cell_type": "code",
   "execution_count": 128,
   "metadata": {},
   "outputs": [],
   "source": [
    "layer_fc1 = new_fc_layer(input=layer_flat,\n",
    "                         num_inputs=num_features,\n",
    "                         num_outputs=fc_size,\n",
    "                         use_relu=True)"
   ]
  },
  {
   "cell_type": "markdown",
   "metadata": {},
   "source": [
    "Se comprueba que la salida de la capa totalmente conectada sea un tensor con forma (?, 128) donde el? significa que hay una cantidad arbitraria de imágenes y `fc_size == 128`."
   ]
  },
  {
   "cell_type": "code",
   "execution_count": 129,
   "metadata": {},
   "outputs": [
    {
     "data": {
      "text/plain": [
       "<tf.Tensor 'Relu_5:0' shape=(?, 128) dtype=float32>"
      ]
     },
     "execution_count": 129,
     "metadata": {},
     "output_type": "execute_result"
    }
   ],
   "source": [
    "layer_fc1"
   ]
  },
  {
   "cell_type": "markdown",
   "metadata": {},
   "source": [
    "### *Fully-Connected Layer* 2"
   ]
  },
  {
   "cell_type": "markdown",
   "metadata": {},
   "source": [
    "Se agrega otra *Fully-Connected Layer* que genere vectores de longitud 10 para determinar a cuál de las 10 clases pertenece la imagen de entrada. Nótese como en este caso no se utiliza la función ReLU."
   ]
  },
  {
   "cell_type": "code",
   "execution_count": 130,
   "metadata": {},
   "outputs": [],
   "source": [
    "layer_fc2 = new_fc_layer(input=layer_fc1,\n",
    "                         num_inputs=fc_size,\n",
    "                         num_outputs=num_classes,\n",
    "                         use_relu=False)"
   ]
  },
  {
   "cell_type": "code",
   "execution_count": 131,
   "metadata": {},
   "outputs": [
    {
     "data": {
      "text/plain": [
       "<tf.Tensor 'add_7:0' shape=(?, 10) dtype=float32>"
      ]
     },
     "execution_count": 131,
     "metadata": {},
     "output_type": "execute_result"
    }
   ],
   "source": [
    "layer_fc2"
   ]
  },
  {
   "cell_type": "markdown",
   "metadata": {},
   "source": [
    "### Predicciones\n"
   ]
  },
  {
   "cell_type": "markdown",
   "metadata": {},
   "source": [
    "La segunda *Fully-Connected Layer* calcula la probabilidad de que la imagen de entrada pertenezca a cada una de las 10 clases. Sin embargo, estas estimaciones son un poco difíciles de interpretar porque las cifras pueden ser muy pequeñas o grandes, por lo que se quiere normalizar para que cada elemento esté limitado entre cero y uno, así como la suma de todas las probabilidades sea uno. Esto se calcula usando la llamada función softmax y el resultado se almacena en `y_pred`."
   ]
  },
  {
   "cell_type": "code",
   "execution_count": 132,
   "metadata": {},
   "outputs": [],
   "source": [
    "y_pred = tf.nn.softmax(layer_fc2)"
   ]
  },
  {
   "cell_type": "markdown",
   "metadata": {},
   "source": [
    "El número de clase es el índice del elemento más grande."
   ]
  },
  {
   "cell_type": "code",
   "execution_count": 133,
   "metadata": {},
   "outputs": [],
   "source": [
    "y_pred_cls = tf.argmax(y_pred, axis=1)"
   ]
  },
  {
   "cell_type": "markdown",
   "metadata": {},
   "source": [
    "### Función de coste a optimizar\n"
   ]
  },
  {
   "cell_type": "markdown",
   "metadata": {},
   "source": [
    "Para que el modelo aprenda a clasificar mejor las imágenes de entrada, de alguna manera se deben cambiar los filtros para todas las capas de red. Para hacer ello, es necesario saber cómo predice actualmente el modelo comparando la salida pronosticada del modelo `y_pred` con la salida deseada `y_true`."
   ]
  },
  {
   "cell_type": "markdown",
   "metadata": {},
   "source": [
    "La \"entropía cruzada\" es una medida de rendimiento utilizada en la clasificación. La \"entropía cruzada\" es una función continua que siempre es positiva y si la salida pronosticada del modelo coincide exactamente con la salida deseada, la \"entropía cruzada\" es igual a cero. Por tanto, el objetivo de la optimización es minimizar la \"entropía cruzada\" para que se acerque lo más posible a cero cambiando los filtros de las capas de red."
   ]
  },
  {
   "cell_type": "markdown",
   "metadata": {},
   "source": [
    "TensorFlow tiene una función incorporada para calcular la \"entropía cruzada\". Hay que tener en cuenta que la función calcula el softmax internamente, por lo que se debe usar la salida de `layer_fc2` directamente en lugar de `y_pred` que ya ha aplicado el softmax."
   ]
  },
  {
   "cell_type": "code",
   "execution_count": 134,
   "metadata": {},
   "outputs": [],
   "source": [
    "cross_entropy = tf.nn.softmax_cross_entropy_with_logits(logits=layer_fc2,\n",
    "                                                        labels=y_true)"
   ]
  },
  {
   "cell_type": "markdown",
   "metadata": {},
   "source": [
    "Ahora se ha calculado la \"entropía cruzada\" para cada una de las clasificaciones de imagen, por lo que se tiene una medida de cómo de bien funciona el modelo en cada imagen individualmente. Pero para utilizar la \"entropía cruzada\" para guiar la optimización de las variables del modelo, se necesita un único valor escalar, por lo que simplemente se calcula el promedio de la \"entropía cruzada\" para todas las clasificaciones de imagen."
   ]
  },
  {
   "cell_type": "code",
   "execution_count": 135,
   "metadata": {},
   "outputs": [],
   "source": [
    "cost = tf.reduce_mean(cross_entropy)"
   ]
  },
  {
   "cell_type": "markdown",
   "metadata": {},
   "source": [
    "### Método de optimización\n"
   ]
  },
  {
   "cell_type": "markdown",
   "metadata": {},
   "source": [
    "Ahora que se tiene una medida de coste que debe minimizarse, es necesario un optimizador. En este caso, es AdamOptimizer, una forma avanzada de Gradient Descent.\n",
    "\n",
    "Hay que tener en cuenta que la optimización no se realiza en este punto. De hecho, nada se calcula en absoluto, simplemente se agrega el optimizador al grafo de TensorFlow para su posterior ejecución"
   ]
  },
  {
   "cell_type": "code",
   "execution_count": 136,
   "metadata": {},
   "outputs": [],
   "source": [
    "optimizer = tf.train.AdamOptimizer(learning_rate=1e-4).minimize(cost)"
   ]
  },
  {
   "cell_type": "markdown",
   "metadata": {},
   "source": [
    "### Medida de rendimiento"
   ]
  },
  {
   "cell_type": "markdown",
   "metadata": {},
   "source": [
    "Es necesario añadir algunas medidas de rendimiento para mostrar el progreso al usuario.\n",
    "\n",
    "Este es un vector de booleanos si la clase predicha es igual a la clase verdadera de cada imagen."
   ]
  },
  {
   "cell_type": "code",
   "execution_count": 137,
   "metadata": {},
   "outputs": [],
   "source": [
    "correct_prediction = tf.equal(y_pred_cls, y_true_cls)"
   ]
  },
  {
   "cell_type": "markdown",
   "metadata": {},
   "source": [
    "Esto calcula la precisión de clasificación, convirtiendo el vector de booleanos a números, de modo que False se convierte en 0 y True se convierte en 1, y luego calcula el promedio de estos números."
   ]
  },
  {
   "cell_type": "code",
   "execution_count": 138,
   "metadata": {},
   "outputs": [],
   "source": [
    "accuracy = tf.reduce_mean(tf.cast(correct_prediction, tf.float32))"
   ]
  },
  {
   "cell_type": "markdown",
   "metadata": {},
   "source": [
    "## Entrenamiento de la Red Neuronal Convolucional\n"
   ]
  },
  {
   "cell_type": "markdown",
   "metadata": {},
   "source": [
    "### Inicialización de TensorFlow"
   ]
  },
  {
   "cell_type": "markdown",
   "metadata": {},
   "source": [
    "Una vez se ha creado el grafo, se debe crear una sesión TensorFlow que ejecute el grafo. (En definitiva acciona los nodos que contienen las funciones y operaciones matemáticas expuestas con anterioridad)"
   ]
  },
  {
   "cell_type": "code",
   "execution_count": 151,
   "metadata": {},
   "outputs": [],
   "source": [
    "session = tf.Session()"
   ]
  },
  {
   "cell_type": "markdown",
   "metadata": {},
   "source": [
    "### Inicialización de las variables"
   ]
  },
  {
   "cell_type": "markdown",
   "metadata": {},
   "source": [
    "Las variables de ponderaciones y sesgos se deben inicializar antes de comenzar a optimizarlas."
   ]
  },
  {
   "cell_type": "code",
   "execution_count": 152,
   "metadata": {},
   "outputs": [],
   "source": [
    "session.run(tf.global_variables_initializer())"
   ]
  },
  {
   "cell_type": "markdown",
   "metadata": {},
   "source": [
    "### Función para la optimización mediante iteraciones\n"
   ]
  },
  {
   "cell_type": "markdown",
   "metadata": {},
   "source": [
    "Hay 55,000 imágenes en el conjunto de entrenamiento. Lleva mucho tiempo calcular el gradiente del modelo usando todas estas imágenes. Por lo tanto, solo se va a utilizar un pequeño conjunto de imágenes en cada iteración del optimizador. Es un sistema de eficiencia que recomienda el equipo de TensorFlow. "
   ]
  },
  {
   "cell_type": "markdown",
   "metadata": {},
   "source": [
    "Si el ordenador se cuelga o se vuelve muy lento porque se queda sin memoria RAM, quizá habría que reducir este número, pero puede que se necesite realizar más iteraciones de optimización."
   ]
  },
  {
   "cell_type": "code",
   "execution_count": 153,
   "metadata": {},
   "outputs": [],
   "source": [
    "train_batch_size = 64"
   ]
  },
  {
   "cell_type": "code",
   "execution_count": 154,
   "metadata": {},
   "outputs": [],
   "source": [
    "# Hacemos un contador de iteraciones.\n",
    "total_iterations = 0\n",
    "\n",
    "def optimize(num_iterations):\n",
    "    global total_iterations\n",
    "\n",
    "    # Marcamos el tiempo para imprimir cuanto tarda.\n",
    "    start_time = time.time()\n",
    "\n",
    "    for i in range(total_iterations,\n",
    "                   total_iterations + num_iterations):\n",
    "\n",
    "        # Cogemos un grupo de ejemplos de training.\n",
    "        # x_batch contiene un grupo de imágenes mientras que \n",
    "        # y_true_batch son el número real de cada imagen.\n",
    "        x_batch, y_true_batch = data.train.next_batch(train_batch_size)\n",
    "\n",
    "        # Convertimos la muestra en un diccionario con las clases\n",
    "        # para las variables placeholder.\n",
    "        feed_dict_train = {x: x_batch,\n",
    "                           y_true: y_true_batch}\n",
    "\n",
    "        # Corremos el optimizador con esta muestra.\n",
    "        # TensorFlow asigna las variables del diccionario\n",
    "        # a las variables placeholder y luego ejecuta el optimizador.\n",
    "        session.run(optimizer, feed_dict=feed_dict_train)\n",
    "\n",
    "        # Se mira el estado cada 10 iteraciones.\n",
    "        if i % 10 == 0:\n",
    "            # Se calcula la precisión de la muestra de training.\n",
    "            acc = session.run(accuracy, feed_dict=feed_dict_train)\n",
    "\n",
    "            # Mensaje de salida.\n",
    "            msg = \"Iteración Número: {0:>6}, Training Accuracy: {1:>6.1%}\"\n",
    "            print(msg.format(i + 1, acc))\n",
    "\n",
    "    # Actualizamos el número total de iteraciones.\n",
    "    total_iterations += num_iterations\n",
    "\n",
    "    # Se para el tiempo.\n",
    "    end_time = time.time()\n",
    "\n",
    "    # Se hace la diferencia entre el tiempo de inicio y el final.\n",
    "    time_dif = end_time - start_time\n",
    "\n",
    "    # Imprimimos el tiempo empleado.\n",
    "    print(\"Tiempo utilizado: \" + str(timedelta(seconds=int(round(time_dif)))))"
   ]
  },
  {
   "cell_type": "markdown",
   "metadata": {},
   "source": [
    "### Función para mostrar los errores\n"
   ]
  },
  {
   "cell_type": "markdown",
   "metadata": {},
   "source": [
    "Se va a definir una función que saque ejemplos de imágenes del conjunto de test que han sido clasificadas incorrectamente."
   ]
  },
  {
   "cell_type": "code",
   "execution_count": 155,
   "metadata": {},
   "outputs": [],
   "source": [
    "def plot_example_errors(cls_pred, correct):\n",
    "\n",
    "    # cls_pred es un array con las predicciones para \n",
    "    # las imágenes de la meustra de test.\n",
    "\n",
    "    # correct es un array de booleanos que muestra si la predicción\n",
    "    # coincide con la realidad para las imágenes del test.\n",
    "\n",
    "    # Sacamos las imagenes mal clasificadas.\n",
    "    incorrect = (correct == False)\n",
    "    \n",
    "    # Toma las imagenes de la muestra de test\n",
    "    # que han sido clasificadas incorrectamente.\n",
    "    images = data.test.images[incorrect]\n",
    "    \n",
    "    # Saca la predicción de cada imagen.\n",
    "    cls_pred = cls_pred[incorrect]\n",
    "\n",
    "    # Saca la solución real de cada imagen.\n",
    "    cls_true = data.test.cls[incorrect]\n",
    "    \n",
    "    # Muestra las 9 primera imágenes.\n",
    "    plot_images(images=images[0:9],\n",
    "                cls_true=cls_true[0:9],\n",
    "                cls_pred=cls_pred[0:9])"
   ]
  },
  {
   "cell_type": "markdown",
   "metadata": {},
   "source": [
    "### Función para obtener la matriz de confusión"
   ]
  },
  {
   "cell_type": "code",
   "execution_count": 156,
   "metadata": {},
   "outputs": [],
   "source": [
    "def plot_confusion_matrix(cls_pred):\n",
    "\n",
    "    # Sacamos las clasificaciones correctas del test.\n",
    "    cls_true = data.test.cls\n",
    "    \n",
    "    # Usamos sklearn para componer la matriz de confusión.\n",
    "    cm = confusion_matrix(y_true=cls_true,\n",
    "                          y_pred=cls_pred)\n",
    "\n",
    "    # Sacamos la matri de confusión como texto.\n",
    "    print(cm)\n",
    "\n",
    "    # Sacamos la matri de confusión como imagen.\n",
    "    plt.matshow(cm)\n",
    "\n",
    "    # Hacemos algunos ajustes.\n",
    "    plt.colorbar()\n",
    "    tick_marks = np.arange(num_classes)\n",
    "    plt.xticks(tick_marks, range(num_classes))\n",
    "    plt.yticks(tick_marks, range(num_classes))\n",
    "    plt.xlabel('Predicted')\n",
    "    plt.ylabel('True')\n",
    "\n",
    "    \n",
    "    plt.show()"
   ]
  },
  {
   "cell_type": "markdown",
   "metadata": {},
   "source": [
    "### Función para mostrar el rendimiento   "
   ]
  },
  {
   "cell_type": "markdown",
   "metadata": {},
   "source": [
    "Se va a definir una función para imprimir la precisión de clasificación en el conjunto de test.\n",
    "\n",
    "Lleva un tiempo calcular la clasificación de todas las imágenes en el conjunto de test, por eso los resultados se reutilizan llamando a las funciones anteriores directamente desde esta función. De esta forma, las clasificaciones no tienen que ser recalculadas por cada función."
   ]
  },
  {
   "cell_type": "code",
   "execution_count": 157,
   "metadata": {},
   "outputs": [],
   "source": [
    "# Se divide la muestra de test en conjuntos del tamaño deseado.\n",
    "test_batch_size = 256\n",
    "\n",
    "def print_test_accuracy(show_example_errors=False,\n",
    "                        show_confusion_matrix=False):\n",
    "\n",
    "    # Número de imágenes en la muestra de test.\n",
    "    num_test = len(data.test.images)\n",
    "\n",
    "    # Asigna un array para las clases predichas que\n",
    "    # se calculará en lotes y se guardará en el objeto cls_pred.\n",
    "    cls_pred = np.zeros(shape=num_test, dtype=np.int)\n",
    "\n",
    "    # Vamos a hacer la predicció para los grupos.\n",
    "    # Para ello vamos a llevar a cabo iteraciones sobre\n",
    "    # todos ellos.\n",
    "\n",
    "\n",
    "    # El índice de inicio para el siguiente grupo se denota como i.\n",
    "    i = 0\n",
    "\n",
    "    while i < num_test:\n",
    "        # El índice de fin para el siguiente grupo se\n",
    "        # denota como j.\n",
    "        j = min(i + test_batch_size, num_test)\n",
    "\n",
    "        # Sacamos las imágenes de la mesutra de test entre \n",
    "        # los índices i y j.\n",
    "        images = data.test.images[i:j, :]\n",
    "\n",
    "        # Sacamos las etiquetas asociadas.\n",
    "        labels = data.test.labels[i:j, :]\n",
    "\n",
    "        # Cremos un diccionario con las imágenes y las etiquetas.\n",
    "        feed_dict = {x: images,\n",
    "                     y_true: labels}\n",
    "\n",
    "        # Calculamos la clase a predecir con TensorFlow.\n",
    "        cls_pred[i:j] = session.run(y_pred_cls, feed_dict=feed_dict)\n",
    "\n",
    "        # Fijamos el índice de inicio del siguiente grupo en el \n",
    "        # índice de fin del grupo anterior.\n",
    "        i = j\n",
    "\n",
    "    # Variable de conveniencia para las clases reales de\n",
    "    # la muestra de test.\n",
    "    cls_true = data.test.cls\n",
    "\n",
    "    # Creamos un vector de booleanos que va aumentando\n",
    "    # uno cada imagen que queda bien clasificada\n",
    "    correct = (cls_true == cls_pred)\n",
    "\n",
    "    # Calculamos el número de imágenes bien clasificadas.\n",
    "    # Los sumamos en un vector de booleanos: 1 es True y 0 es False.\n",
    "    correct_sum = correct.sum()\n",
    "\n",
    "    # La precisión de la clasificación se obtiene como \n",
    "    # la suma de los aciertos entre la suma de casos totales.\n",
    "    acc = float(correct_sum) / num_test\n",
    "\n",
    "    # Imprime la precisión.\n",
    "    msg = \"Accuracy en la muestra de test: {0:.1%} ({1} / {2})\"\n",
    "    print(msg.format(acc, correct_sum, num_test))\n",
    "\n",
    "    # Se muestran algunos ejemplos de malas clasificaciones si se desea.\n",
    "    if show_example_errors:\n",
    "        print(\"Ejemplos de clasificaciones erroneas:\")\n",
    "        plot_example_errors(cls_pred=cls_pred, correct=correct)\n",
    "\n",
    "    # Se muestra la matriz de confusión si se desea.\n",
    "    if show_confusion_matrix:\n",
    "        print(\"Matriz de confusión:\")\n",
    "        plot_confusion_matrix(cls_pred=cls_pred)"
   ]
  },
  {
   "cell_type": "markdown",
   "metadata": {},
   "source": [
    "### *Accuracy* antes de optimizar "
   ]
  },
  {
   "cell_type": "markdown",
   "metadata": {},
   "source": [
    "El *accuracy* en el conjunto de test es muy bajo porque las variables del modelo solo se han inicializado y no se han optimizado en absoluto, por lo que solo lleva a cabo una clasificación aleatoria (recuérdese que los pesos eran completamente aleatorios en la inicialización). Se puede suponer que alcanzará una precisión de alrededor del 10%, ya que son 10 cifras a clasificar 1/10*100"
   ]
  },
  {
   "cell_type": "code",
   "execution_count": 158,
   "metadata": {},
   "outputs": [
    {
     "name": "stdout",
     "output_type": "stream",
     "text": [
      "Accuracy en la muestra de test: 10.7% (1071 / 10000)\n"
     ]
    }
   ],
   "source": [
    "print_test_accuracy()"
   ]
  },
  {
   "cell_type": "markdown",
   "metadata": {},
   "source": [
    "### *Accuracy* tras 1 iteración "
   ]
  },
  {
   "cell_type": "markdown",
   "metadata": {},
   "source": [
    "El *accuracy* de la clasificación en la muestra de test no mejora mucho con solo una iteración. Esto es debido a que la tasa de aprendizaje para el optimizador es muy baja."
   ]
  },
  {
   "cell_type": "code",
   "execution_count": 159,
   "metadata": {},
   "outputs": [
    {
     "name": "stdout",
     "output_type": "stream",
     "text": [
      "Iteración Número:      1, Training Accuracy:  14.1%\n",
      "Tiempo utilizado: 0:00:00\n"
     ]
    }
   ],
   "source": [
    "optimize(num_iterations=1)"
   ]
  },
  {
   "cell_type": "code",
   "execution_count": 160,
   "metadata": {},
   "outputs": [
    {
     "name": "stdout",
     "output_type": "stream",
     "text": [
      "Accuracy en la muestra de test: 12.6% (1256 / 10000)\n"
     ]
    }
   ],
   "source": [
    "print_test_accuracy()"
   ]
  },
  {
   "cell_type": "markdown",
   "metadata": {},
   "source": [
    "### *Accuracy* tras 100 iteraciones"
   ]
  },
  {
   "cell_type": "markdown",
   "metadata": {},
   "source": [
    "Después de 100 iteraciones, el modelo ha mejorado significativamente su precisión a la hora de clasificar las imágenes."
   ]
  },
  {
   "cell_type": "code",
   "execution_count": 161,
   "metadata": {},
   "outputs": [
    {
     "name": "stdout",
     "output_type": "stream",
     "text": [
      "Iteración Número:     11, Training Accuracy:  21.9%\n",
      "Iteración Número:     21, Training Accuracy:  20.3%\n",
      "Iteración Número:     31, Training Accuracy:  32.8%\n",
      "Iteración Número:     41, Training Accuracy:  50.0%\n",
      "Iteración Número:     51, Training Accuracy:  28.1%\n",
      "Iteración Número:     61, Training Accuracy:  57.8%\n",
      "Iteración Número:     71, Training Accuracy:  51.6%\n",
      "Iteración Número:     81, Training Accuracy:  57.8%\n",
      "Iteración Número:     91, Training Accuracy:  67.2%\n",
      "Tiempo utilizado: 0:00:09\n"
     ]
    }
   ],
   "source": [
    "optimize(num_iterations=99) # Se pone 99 iteraciones ya que previamente ya hemos realizado 1."
   ]
  },
  {
   "cell_type": "code",
   "execution_count": 162,
   "metadata": {},
   "outputs": [
    {
     "name": "stdout",
     "output_type": "stream",
     "text": [
      "Accuracy en la muestra de test: 58.3% (5831 / 10000)\n",
      "Ejemplos de clasificaciones erroneas:\n"
     ]
    },
    {
     "data": {
      "image/png": "[encoded data removed]",
      "text/plain": [
       "<matplotlib.figure.Figure at 0x7f0247bd7b00>"
      ]
     },
     "metadata": {},
     "output_type": "display_data"
    }
   ],
   "source": [
    "print_test_accuracy(show_example_errors=True)"
   ]
  },
  {
   "cell_type": "markdown",
   "metadata": {},
   "source": [
    "Está cometiendo errores bastante graves, a simple vista se pueden reconocer todos los números. Quizas el más confuso es el 5 situado en el centro. Pero aún asi no parecen ejemplos complicados de clasificar. "
   ]
  },
  {
   "cell_type": "markdown",
   "metadata": {},
   "source": [
    "### *Accuracy* tras 1000 iteraciones"
   ]
  },
  {
   "cell_type": "markdown",
   "metadata": {},
   "source": [
    "Después de 1000 iteraciones, el modelo ha aumentado enormemente su precisión en el conjunto de prueba a más del 90%"
   ]
  },
  {
   "cell_type": "code",
   "execution_count": 163,
   "metadata": {},
   "outputs": [
    {
     "name": "stdout",
     "output_type": "stream",
     "text": [
      "Iteración Número:    101, Training Accuracy:  60.9%\n",
      "Iteración Número:    111, Training Accuracy:  51.6%\n",
      "Iteración Número:    121, Training Accuracy:  75.0%\n",
      "Iteración Número:    131, Training Accuracy:  71.9%\n",
      "Iteración Número:    141, Training Accuracy:  65.6%\n",
      "Iteración Número:    151, Training Accuracy:  75.0%\n",
      "Iteración Número:    161, Training Accuracy:  76.6%\n",
      "Iteración Número:    171, Training Accuracy:  78.1%\n",
      "Iteración Número:    181, Training Accuracy:  73.4%\n",
      "Iteración Número:    191, Training Accuracy:  81.2%\n",
      "Iteración Número:    201, Training Accuracy:  82.8%\n",
      "Iteración Número:    211, Training Accuracy:  85.9%\n",
      "Iteración Número:    221, Training Accuracy:  79.7%\n",
      "Iteración Número:    231, Training Accuracy:  84.4%\n",
      "Iteración Número:    241, Training Accuracy:  78.1%\n",
      "Iteración Número:    251, Training Accuracy:  75.0%\n",
      "Iteración Número:    261, Training Accuracy:  82.8%\n",
      "Iteración Número:    271, Training Accuracy:  84.4%\n",
      "Iteración Número:    281, Training Accuracy:  82.8%\n",
      "Iteración Número:    291, Training Accuracy:  87.5%\n",
      "Iteración Número:    301, Training Accuracy:  92.2%\n",
      "Iteración Número:    311, Training Accuracy:  87.5%\n",
      "Iteración Número:    321, Training Accuracy:  85.9%\n",
      "Iteración Número:    331, Training Accuracy:  87.5%\n",
      "Iteración Número:    341, Training Accuracy:  92.2%\n",
      "Iteración Número:    351, Training Accuracy:  85.9%\n",
      "Iteración Número:    361, Training Accuracy:  85.9%\n",
      "Iteración Número:    371, Training Accuracy:  85.9%\n",
      "Iteración Número:    381, Training Accuracy:  90.6%\n",
      "Iteración Número:    391, Training Accuracy:  92.2%\n",
      "Iteración Número:    401, Training Accuracy:  87.5%\n",
      "Iteración Número:    411, Training Accuracy:  85.9%\n",
      "Iteración Número:    421, Training Accuracy:  85.9%\n",
      "Iteración Número:    431, Training Accuracy:  90.6%\n",
      "Iteración Número:    441, Training Accuracy:  81.2%\n",
      "Iteración Número:    451, Training Accuracy:  92.2%\n",
      "Iteración Número:    461, Training Accuracy:  93.8%\n",
      "Iteración Número:    471, Training Accuracy:  92.2%\n",
      "Iteración Número:    481, Training Accuracy:  90.6%\n",
      "Iteración Número:    491, Training Accuracy:  98.4%\n",
      "Iteración Número:    501, Training Accuracy:  92.2%\n",
      "Iteración Número:    511, Training Accuracy:  89.1%\n",
      "Iteración Número:    521, Training Accuracy:  84.4%\n",
      "Iteración Número:    531, Training Accuracy:  90.6%\n",
      "Iteración Número:    541, Training Accuracy:  87.5%\n",
      "Iteración Número:    551, Training Accuracy:  93.8%\n",
      "Iteración Número:    561, Training Accuracy:  92.2%\n",
      "Iteración Número:    571, Training Accuracy:  89.1%\n",
      "Iteración Número:    581, Training Accuracy:  96.9%\n",
      "Iteración Número:    591, Training Accuracy:  92.2%\n",
      "Iteración Número:    601, Training Accuracy:  92.2%\n",
      "Iteración Número:    611, Training Accuracy:  92.2%\n",
      "Iteración Número:    621, Training Accuracy:  90.6%\n",
      "Iteración Número:    631, Training Accuracy:  92.2%\n",
      "Iteración Número:    641, Training Accuracy:  84.4%\n",
      "Iteración Número:    651, Training Accuracy:  85.9%\n",
      "Iteración Número:    661, Training Accuracy:  89.1%\n",
      "Iteración Número:    671, Training Accuracy:  93.8%\n",
      "Iteración Número:    681, Training Accuracy:  93.8%\n",
      "Iteración Número:    691, Training Accuracy:  92.2%\n",
      "Iteración Número:    701, Training Accuracy:  87.5%\n",
      "Iteración Número:    711, Training Accuracy:  93.8%\n",
      "Iteración Número:    721, Training Accuracy:  90.6%\n",
      "Iteración Número:    731, Training Accuracy:  95.3%\n",
      "Iteración Número:    741, Training Accuracy:  92.2%\n",
      "Iteración Número:    751, Training Accuracy:  96.9%\n",
      "Iteración Número:    761, Training Accuracy:  89.1%\n",
      "Iteración Número:    771, Training Accuracy:  95.3%\n",
      "Iteración Número:    781, Training Accuracy:  89.1%\n",
      "Iteración Número:    791, Training Accuracy:  92.2%\n",
      "Iteración Número:    801, Training Accuracy:  93.8%\n",
      "Iteración Número:    811, Training Accuracy:  87.5%\n",
      "Iteración Número:    821, Training Accuracy:  87.5%\n",
      "Iteración Número:    831, Training Accuracy:  96.9%\n",
      "Iteración Número:    841, Training Accuracy:  89.1%\n",
      "Iteración Número:    851, Training Accuracy:  92.2%\n",
      "Iteración Número:    861, Training Accuracy:  89.1%\n",
      "Iteración Número:    871, Training Accuracy:  90.6%\n",
      "Iteración Número:    881, Training Accuracy:  92.2%\n",
      "Iteración Número:    891, Training Accuracy:  95.3%\n",
      "Iteración Número:    901, Training Accuracy:  93.8%\n",
      "Iteración Número:    911, Training Accuracy:  93.8%\n",
      "Iteración Número:    921, Training Accuracy:  90.6%\n",
      "Iteración Número:    931, Training Accuracy:  96.9%\n",
      "Iteración Número:    941, Training Accuracy:  95.3%\n",
      "Iteración Número:    951, Training Accuracy:  87.5%\n",
      "Iteración Número:    961, Training Accuracy:  89.1%\n",
      "Iteración Número:    971, Training Accuracy:  90.6%\n",
      "Iteración Número:    981, Training Accuracy:  93.8%\n",
      "Iteración Número:    991, Training Accuracy:  95.3%\n",
      "Tiempo utilizado: 0:01:18\n"
     ]
    }
   ],
   "source": [
    "optimize(num_iterations=900) "
   ]
  },
  {
   "cell_type": "code",
   "execution_count": 164,
   "metadata": {},
   "outputs": [
    {
     "name": "stdout",
     "output_type": "stream",
     "text": [
      "Accuracy en la muestra de test: 93.1% (9312 / 10000)\n",
      "Ejemplos de clasificaciones erroneas:\n"
     ]
    },
    {
     "data": {
      "image/png": "[encoded data removed]",
      "text/plain": [
       "<matplotlib.figure.Figure at 0x7f0247bd7f60>"
      ]
     },
     "metadata": {},
     "output_type": "display_data"
    }
   ],
   "source": [
    "print_test_accuracy(show_example_errors=True)"
   ]
  },
  {
   "cell_type": "markdown",
   "metadata": {},
   "source": [
    "Afortunadamente, tras haber conseguido un 93.1% de acierto, los errores no son tan graves. Por ejemplo, el primer dígito situado en la esquina superior izquierda, no parece un cuatro. Lo ha predicho como un 6, pero no nos interesa que aprenda que esa trazada es un cuatro dado que estaría distorsionando la realidad y sus futuras predicciones. Por otro lado, el número siete situado en la posición [2,3] -si se trata como una matriz-, podría ser perfectamente un uno. Es más, bajo nuestro criterio consideramos que la clasificación correcta es un uno, así que en ese aspecto la red neuronal se está comportando adecuadamente. El resto de números serían clasificados por un humano con facilidad, pero es comprensible que la red puede tener dudas."
   ]
  },
  {
   "cell_type": "markdown",
   "metadata": {},
   "source": [
    "### *Accuracy* tras 10.000 iteraciones"
   ]
  },
  {
   "cell_type": "markdown",
   "metadata": {},
   "source": [
    "Después de 10.000 iteraciones, el modelo tiene una precisión de clasificación en el conjunto de test de aproximadamente el 99%."
   ]
  },
  {
   "cell_type": "code",
   "execution_count": 165,
   "metadata": {},
   "outputs": [
    {
     "name": "stdout",
     "output_type": "stream",
     "text": [
      "Iteración Número:   1001, Training Accuracy:  90.6%\n",
      "Iteración Número:   1011, Training Accuracy:  85.9%\n",
      "Iteración Número:   1021, Training Accuracy:  90.6%\n",
      "Iteración Número:   1031, Training Accuracy:  95.3%\n",
      "Iteración Número:   1041, Training Accuracy:  93.8%\n",
      "Iteración Número:   1051, Training Accuracy:  93.8%\n",
      "Iteración Número:   1061, Training Accuracy:  93.8%\n",
      "Iteración Número:   1071, Training Accuracy:  84.4%\n",
      "Iteración Número:   1081, Training Accuracy:  92.2%\n",
      "Iteración Número:   1091, Training Accuracy:  89.1%\n",
      "Iteración Número:   1101, Training Accuracy:  92.2%\n",
      "Iteración Número:   1111, Training Accuracy:  90.6%\n",
      "Iteración Número:   1121, Training Accuracy:  93.8%\n",
      "Iteración Número:   1131, Training Accuracy:  96.9%\n",
      "Iteración Número:   1141, Training Accuracy:  95.3%\n",
      "Iteración Número:   1151, Training Accuracy:  89.1%\n",
      "Iteración Número:   1161, Training Accuracy:  89.1%\n",
      "Iteración Número:   1171, Training Accuracy:  85.9%\n",
      "Iteración Número:   1181, Training Accuracy:  93.8%\n",
      "Iteración Número:   1191, Training Accuracy:  93.8%\n",
      "Iteración Número:   1201, Training Accuracy:  93.8%\n",
      "Iteración Número:   1211, Training Accuracy:  93.8%\n",
      "Iteración Número:   1221, Training Accuracy:  92.2%\n",
      "Iteración Número:   1231, Training Accuracy:  90.6%\n",
      "Iteración Número:   1241, Training Accuracy:  87.5%\n",
      "Iteración Número:   1251, Training Accuracy:  98.4%\n",
      "Iteración Número:   1261, Training Accuracy:  96.9%\n",
      "Iteración Número:   1271, Training Accuracy:  95.3%\n",
      "Iteración Número:   1281, Training Accuracy:  89.1%\n",
      "Iteración Número:   1291, Training Accuracy:  95.3%\n",
      "Iteración Número:   1301, Training Accuracy:  98.4%\n",
      "Iteración Número:   1311, Training Accuracy:  93.8%\n",
      "Iteración Número:   1321, Training Accuracy:  90.6%\n",
      "Iteración Número:   1331, Training Accuracy:  93.8%\n",
      "Iteración Número:   1341, Training Accuracy:  93.8%\n",
      "Iteración Número:   1351, Training Accuracy:  96.9%\n",
      "Iteración Número:   1361, Training Accuracy:  93.8%\n",
      "Iteración Número:   1371, Training Accuracy:  90.6%\n",
      "Iteración Número:   1381, Training Accuracy:  92.2%\n",
      "Iteración Número:   1391, Training Accuracy:  87.5%\n",
      "Iteración Número:   1401, Training Accuracy:  98.4%\n",
      "Iteración Número:   1411, Training Accuracy:  96.9%\n",
      "Iteración Número:   1421, Training Accuracy:  95.3%\n",
      "Iteración Número:   1431, Training Accuracy:  93.8%\n",
      "Iteración Número:   1441, Training Accuracy:  96.9%\n",
      "Iteración Número:   1451, Training Accuracy:  96.9%\n",
      "Iteración Número:   1461, Training Accuracy:  90.6%\n",
      "Iteración Número:   1471, Training Accuracy:  92.2%\n",
      "Iteración Número:   1481, Training Accuracy:  96.9%\n",
      "Iteración Número:   1491, Training Accuracy:  96.9%\n",
      "Iteración Número:   1501, Training Accuracy: 100.0%\n",
      "Iteración Número:   1511, Training Accuracy:  95.3%\n",
      "Iteración Número:   1521, Training Accuracy:  96.9%\n",
      "Iteración Número:   1531, Training Accuracy:  92.2%\n",
      "Iteración Número:   1541, Training Accuracy:  96.9%\n",
      "Iteración Número:   1551, Training Accuracy:  98.4%\n",
      "Iteración Número:   1561, Training Accuracy: 100.0%\n",
      "Iteración Número:   1571, Training Accuracy:  98.4%\n",
      "Iteración Número:   1581, Training Accuracy:  96.9%\n",
      "Iteración Número:   1591, Training Accuracy:  92.2%\n",
      "Iteración Número:   1601, Training Accuracy:  96.9%\n",
      "Iteración Número:   1611, Training Accuracy:  95.3%\n",
      "Iteración Número:   1621, Training Accuracy:  95.3%\n",
      "Iteración Número:   1631, Training Accuracy: 100.0%\n",
      "Iteración Número:   1641, Training Accuracy:  90.6%\n",
      "Iteración Número:   1651, Training Accuracy:  98.4%\n",
      "Iteración Número:   1661, Training Accuracy:  92.2%\n",
      "Iteración Número:   1671, Training Accuracy:  92.2%\n",
      "Iteración Número:   1681, Training Accuracy:  96.9%\n",
      "Iteración Número:   1691, Training Accuracy:  98.4%\n",
      "Iteración Número:   1701, Training Accuracy:  92.2%\n",
      "Iteración Número:   1711, Training Accuracy:  95.3%\n",
      "Iteración Número:   1721, Training Accuracy:  95.3%\n",
      "Iteración Número:   1731, Training Accuracy:  98.4%\n",
      "Iteración Número:   1741, Training Accuracy:  96.9%\n",
      "Iteración Número:   1751, Training Accuracy:  93.8%\n",
      "Iteración Número:   1761, Training Accuracy:  95.3%\n",
      "Iteración Número:   1771, Training Accuracy:  93.8%\n",
      "Iteración Número:   1781, Training Accuracy:  95.3%\n",
      "Iteración Número:   1791, Training Accuracy:  98.4%\n",
      "Iteración Número:   1801, Training Accuracy: 100.0%\n",
      "Iteración Número:   1811, Training Accuracy:  95.3%\n",
      "Iteración Número:   1821, Training Accuracy:  96.9%\n",
      "Iteración Número:   1831, Training Accuracy:  93.8%\n",
      "Iteración Número:   1841, Training Accuracy:  95.3%\n",
      "Iteración Número:   1851, Training Accuracy:  98.4%\n",
      "Iteración Número:   1861, Training Accuracy:  92.2%\n",
      "Iteración Número:   1871, Training Accuracy:  98.4%\n",
      "Iteración Número:   1881, Training Accuracy: 100.0%\n",
      "Iteración Número:   1891, Training Accuracy:  96.9%\n",
      "Iteración Número:   1901, Training Accuracy:  98.4%\n",
      "Iteración Número:   1911, Training Accuracy: 100.0%\n",
      "Iteración Número:   1921, Training Accuracy:  95.3%\n",
      "Iteración Número:   1931, Training Accuracy:  98.4%\n",
      "Iteración Número:   1941, Training Accuracy:  93.8%\n",
      "Iteración Número:   1951, Training Accuracy:  98.4%\n",
      "Iteración Número:   1961, Training Accuracy:  98.4%\n",
      "Iteración Número:   1971, Training Accuracy:  98.4%\n",
      "Iteración Número:   1981, Training Accuracy:  92.2%\n",
      "Iteración Número:   1991, Training Accuracy:  98.4%\n",
      "Iteración Número:   2001, Training Accuracy: 100.0%\n",
      "Iteración Número:   2011, Training Accuracy:  98.4%\n",
      "Iteración Número:   2021, Training Accuracy:  92.2%\n",
      "Iteración Número:   2031, Training Accuracy:  96.9%\n",
      "Iteración Número:   2041, Training Accuracy: 100.0%\n",
      "Iteración Número:   2051, Training Accuracy:  96.9%\n",
      "Iteración Número:   2061, Training Accuracy:  98.4%\n",
      "Iteración Número:   2071, Training Accuracy:  93.8%\n",
      "Iteración Número:   2081, Training Accuracy:  95.3%\n",
      "Iteración Número:   2091, Training Accuracy:  93.8%\n",
      "Iteración Número:   2101, Training Accuracy:  92.2%\n",
      "Iteración Número:   2111, Training Accuracy:  96.9%\n",
      "Iteración Número:   2121, Training Accuracy:  92.2%\n",
      "Iteración Número:   2131, Training Accuracy:  96.9%\n",
      "Iteración Número:   2141, Training Accuracy:  93.8%\n",
      "Iteración Número:   2151, Training Accuracy:  96.9%\n",
      "Iteración Número:   2161, Training Accuracy: 100.0%\n",
      "Iteración Número:   2171, Training Accuracy:  96.9%\n",
      "Iteración Número:   2181, Training Accuracy:  98.4%\n",
      "Iteración Número:   2191, Training Accuracy:  98.4%\n",
      "Iteración Número:   2201, Training Accuracy:  93.8%\n",
      "Iteración Número:   2211, Training Accuracy:  96.9%\n",
      "Iteración Número:   2221, Training Accuracy:  96.9%\n",
      "Iteración Número:   2231, Training Accuracy:  98.4%\n",
      "Iteración Número:   2241, Training Accuracy:  98.4%\n",
      "Iteración Número:   2251, Training Accuracy:  96.9%\n",
      "Iteración Número:   2261, Training Accuracy: 100.0%\n",
      "Iteración Número:   2271, Training Accuracy:  96.9%\n",
      "Iteración Número:   2281, Training Accuracy:  95.3%\n",
      "Iteración Número:   2291, Training Accuracy:  93.8%\n",
      "Iteración Número:   2301, Training Accuracy:  95.3%\n",
      "Iteración Número:   2311, Training Accuracy:  96.9%\n",
      "Iteración Número:   2321, Training Accuracy: 100.0%\n",
      "Iteración Número:   2331, Training Accuracy:  95.3%\n",
      "Iteración Número:   2341, Training Accuracy:  93.8%\n",
      "Iteración Número:   2351, Training Accuracy:  96.9%\n",
      "Iteración Número:   2361, Training Accuracy:  98.4%\n",
      "Iteración Número:   2371, Training Accuracy:  98.4%\n",
      "Iteración Número:   2381, Training Accuracy:  98.4%\n",
      "Iteración Número:   2391, Training Accuracy:  98.4%\n",
      "Iteración Número:   2401, Training Accuracy:  95.3%\n",
      "Iteración Número:   2411, Training Accuracy:  93.8%\n",
      "Iteración Número:   2421, Training Accuracy:  93.8%\n",
      "Iteración Número:   2431, Training Accuracy:  96.9%\n",
      "Iteración Número:   2441, Training Accuracy:  95.3%\n",
      "Iteración Número:   2451, Training Accuracy:  98.4%\n",
      "Iteración Número:   2461, Training Accuracy:  98.4%\n",
      "Iteración Número:   2471, Training Accuracy:  93.8%\n",
      "Iteración Número:   2481, Training Accuracy:  96.9%\n",
      "Iteración Número:   2491, Training Accuracy:  93.8%\n",
      "Iteración Número:   2501, Training Accuracy:  93.8%\n",
      "Iteración Número:   2511, Training Accuracy:  96.9%\n",
      "Iteración Número:   2521, Training Accuracy:  95.3%\n",
      "Iteración Número:   2531, Training Accuracy:  90.6%\n",
      "Iteración Número:   2541, Training Accuracy:  95.3%\n",
      "Iteración Número:   2551, Training Accuracy:  96.9%\n",
      "Iteración Número:   2561, Training Accuracy:  93.8%\n",
      "Iteración Número:   2571, Training Accuracy:  96.9%\n"
     ]
    },
    {
     "name": "stdout",
     "output_type": "stream",
     "text": [
      "Iteración Número:   2581, Training Accuracy:  95.3%\n",
      "Iteración Número:   2591, Training Accuracy:  95.3%\n",
      "Iteración Número:   2601, Training Accuracy:  98.4%\n",
      "Iteración Número:   2611, Training Accuracy:  98.4%\n",
      "Iteración Número:   2621, Training Accuracy:  96.9%\n",
      "Iteración Número:   2631, Training Accuracy:  98.4%\n",
      "Iteración Número:   2641, Training Accuracy:  98.4%\n",
      "Iteración Número:   2651, Training Accuracy:  95.3%\n",
      "Iteración Número:   2661, Training Accuracy:  93.8%\n",
      "Iteración Número:   2671, Training Accuracy: 100.0%\n",
      "Iteración Número:   2681, Training Accuracy:  95.3%\n",
      "Iteración Número:   2691, Training Accuracy:  92.2%\n",
      "Iteración Número:   2701, Training Accuracy:  96.9%\n",
      "Iteración Número:   2711, Training Accuracy:  95.3%\n",
      "Iteración Número:   2721, Training Accuracy:  96.9%\n",
      "Iteración Número:   2731, Training Accuracy:  98.4%\n",
      "Iteración Número:   2741, Training Accuracy:  96.9%\n",
      "Iteración Número:   2751, Training Accuracy:  98.4%\n",
      "Iteración Número:   2761, Training Accuracy:  95.3%\n",
      "Iteración Número:   2771, Training Accuracy:  98.4%\n",
      "Iteración Número:   2781, Training Accuracy:  93.8%\n",
      "Iteración Número:   2791, Training Accuracy:  92.2%\n",
      "Iteración Número:   2801, Training Accuracy:  98.4%\n",
      "Iteración Número:   2811, Training Accuracy:  93.8%\n",
      "Iteración Número:   2821, Training Accuracy:  98.4%\n",
      "Iteración Número:   2831, Training Accuracy:  96.9%\n",
      "Iteración Número:   2841, Training Accuracy:  95.3%\n",
      "Iteración Número:   2851, Training Accuracy:  96.9%\n",
      "Iteración Número:   2861, Training Accuracy:  95.3%\n",
      "Iteración Número:   2871, Training Accuracy:  98.4%\n",
      "Iteración Número:   2881, Training Accuracy:  98.4%\n",
      "Iteración Número:   2891, Training Accuracy:  95.3%\n",
      "Iteración Número:   2901, Training Accuracy:  96.9%\n",
      "Iteración Número:   2911, Training Accuracy:  98.4%\n",
      "Iteración Número:   2921, Training Accuracy:  96.9%\n",
      "Iteración Número:   2931, Training Accuracy:  95.3%\n",
      "Iteración Número:   2941, Training Accuracy: 100.0%\n",
      "Iteración Número:   2951, Training Accuracy:  95.3%\n",
      "Iteración Número:   2961, Training Accuracy:  98.4%\n",
      "Iteración Número:   2971, Training Accuracy:  96.9%\n",
      "Iteración Número:   2981, Training Accuracy:  96.9%\n",
      "Iteración Número:   2991, Training Accuracy:  96.9%\n",
      "Iteración Número:   3001, Training Accuracy: 100.0%\n",
      "Iteración Número:   3011, Training Accuracy:  95.3%\n",
      "Iteración Número:   3021, Training Accuracy:  98.4%\n",
      "Iteración Número:   3031, Training Accuracy:  96.9%\n",
      "Iteración Número:   3041, Training Accuracy:  96.9%\n",
      "Iteración Número:   3051, Training Accuracy:  98.4%\n",
      "Iteración Número:   3061, Training Accuracy:  92.2%\n",
      "Iteración Número:   3071, Training Accuracy:  98.4%\n",
      "Iteración Número:   3081, Training Accuracy:  98.4%\n",
      "Iteración Número:   3091, Training Accuracy:  90.6%\n",
      "Iteración Número:   3101, Training Accuracy:  98.4%\n",
      "Iteración Número:   3111, Training Accuracy:  95.3%\n",
      "Iteración Número:   3121, Training Accuracy:  96.9%\n",
      "Iteración Número:   3131, Training Accuracy:  98.4%\n",
      "Iteración Número:   3141, Training Accuracy: 100.0%\n",
      "Iteración Número:   3151, Training Accuracy:  98.4%\n",
      "Iteración Número:   3161, Training Accuracy:  96.9%\n",
      "Iteración Número:   3171, Training Accuracy:  96.9%\n",
      "Iteración Número:   3181, Training Accuracy:  90.6%\n",
      "Iteración Número:   3191, Training Accuracy:  96.9%\n",
      "Iteración Número:   3201, Training Accuracy:  96.9%\n",
      "Iteración Número:   3211, Training Accuracy:  95.3%\n",
      "Iteración Número:   3221, Training Accuracy:  93.8%\n",
      "Iteración Número:   3231, Training Accuracy:  98.4%\n",
      "Iteración Número:   3241, Training Accuracy:  95.3%\n",
      "Iteración Número:   3251, Training Accuracy: 100.0%\n",
      "Iteración Número:   3261, Training Accuracy:  92.2%\n",
      "Iteración Número:   3271, Training Accuracy:  98.4%\n",
      "Iteración Número:   3281, Training Accuracy:  95.3%\n",
      "Iteración Número:   3291, Training Accuracy:  96.9%\n",
      "Iteración Número:   3301, Training Accuracy:  96.9%\n",
      "Iteración Número:   3311, Training Accuracy:  98.4%\n",
      "Iteración Número:   3321, Training Accuracy:  96.9%\n",
      "Iteración Número:   3331, Training Accuracy:  96.9%\n",
      "Iteración Número:   3341, Training Accuracy: 100.0%\n",
      "Iteración Número:   3351, Training Accuracy:  96.9%\n",
      "Iteración Número:   3361, Training Accuracy:  96.9%\n",
      "Iteración Número:   3371, Training Accuracy:  98.4%\n",
      "Iteración Número:   3381, Training Accuracy:  95.3%\n",
      "Iteración Número:   3391, Training Accuracy:  96.9%\n",
      "Iteración Número:   3401, Training Accuracy:  98.4%\n",
      "Iteración Número:   3411, Training Accuracy:  90.6%\n",
      "Iteración Número:   3421, Training Accuracy: 100.0%\n",
      "Iteración Número:   3431, Training Accuracy:  95.3%\n",
      "Iteración Número:   3441, Training Accuracy:  96.9%\n",
      "Iteración Número:   3451, Training Accuracy:  95.3%\n",
      "Iteración Número:   3461, Training Accuracy:  96.9%\n",
      "Iteración Número:   3471, Training Accuracy:  98.4%\n",
      "Iteración Número:   3481, Training Accuracy: 100.0%\n",
      "Iteración Número:   3491, Training Accuracy:  96.9%\n",
      "Iteración Número:   3501, Training Accuracy: 100.0%\n",
      "Iteración Número:   3511, Training Accuracy:  98.4%\n",
      "Iteración Número:   3521, Training Accuracy:  95.3%\n",
      "Iteración Número:   3531, Training Accuracy:  98.4%\n",
      "Iteración Número:   3541, Training Accuracy:  98.4%\n",
      "Iteración Número:   3551, Training Accuracy:  98.4%\n",
      "Iteración Número:   3561, Training Accuracy: 100.0%\n",
      "Iteración Número:   3571, Training Accuracy:  96.9%\n",
      "Iteración Número:   3581, Training Accuracy:  98.4%\n",
      "Iteración Número:   3591, Training Accuracy:  95.3%\n",
      "Iteración Número:   3601, Training Accuracy:  98.4%\n",
      "Iteración Número:   3611, Training Accuracy:  93.8%\n",
      "Iteración Número:   3621, Training Accuracy:  98.4%\n",
      "Iteración Número:   3631, Training Accuracy:  98.4%\n",
      "Iteración Número:   3641, Training Accuracy:  98.4%\n",
      "Iteración Número:   3651, Training Accuracy:  92.2%\n",
      "Iteración Número:   3661, Training Accuracy: 100.0%\n",
      "Iteración Número:   3671, Training Accuracy:  95.3%\n",
      "Iteración Número:   3681, Training Accuracy: 100.0%\n",
      "Iteración Número:   3691, Training Accuracy: 100.0%\n",
      "Iteración Número:   3701, Training Accuracy:  96.9%\n",
      "Iteración Número:   3711, Training Accuracy: 100.0%\n",
      "Iteración Número:   3721, Training Accuracy: 100.0%\n",
      "Iteración Número:   3731, Training Accuracy:  95.3%\n",
      "Iteración Número:   3741, Training Accuracy:  93.8%\n",
      "Iteración Número:   3751, Training Accuracy:  98.4%\n",
      "Iteración Número:   3761, Training Accuracy:  96.9%\n",
      "Iteración Número:   3771, Training Accuracy:  95.3%\n",
      "Iteración Número:   3781, Training Accuracy:  93.8%\n",
      "Iteración Número:   3791, Training Accuracy:  98.4%\n",
      "Iteración Número:   3801, Training Accuracy:  96.9%\n",
      "Iteración Número:   3811, Training Accuracy:  98.4%\n",
      "Iteración Número:   3821, Training Accuracy:  96.9%\n",
      "Iteración Número:   3831, Training Accuracy: 100.0%\n",
      "Iteración Número:   3841, Training Accuracy:  98.4%\n",
      "Iteración Número:   3851, Training Accuracy:  95.3%\n",
      "Iteración Número:   3861, Training Accuracy:  98.4%\n",
      "Iteración Número:   3871, Training Accuracy: 100.0%\n",
      "Iteración Número:   3881, Training Accuracy:  98.4%\n",
      "Iteración Número:   3891, Training Accuracy:  96.9%\n",
      "Iteración Número:   3901, Training Accuracy: 100.0%\n",
      "Iteración Número:   3911, Training Accuracy:  98.4%\n",
      "Iteración Número:   3921, Training Accuracy:  98.4%\n",
      "Iteración Número:   3931, Training Accuracy:  96.9%\n",
      "Iteración Número:   3941, Training Accuracy:  95.3%\n",
      "Iteración Número:   3951, Training Accuracy:  95.3%\n",
      "Iteración Número:   3961, Training Accuracy: 100.0%\n",
      "Iteración Número:   3971, Training Accuracy:  96.9%\n",
      "Iteración Número:   3981, Training Accuracy:  93.8%\n",
      "Iteración Número:   3991, Training Accuracy:  96.9%\n",
      "Iteración Número:   4001, Training Accuracy:  92.2%\n",
      "Iteración Número:   4011, Training Accuracy:  95.3%\n",
      "Iteración Número:   4021, Training Accuracy:  96.9%\n",
      "Iteración Número:   4031, Training Accuracy:  95.3%\n",
      "Iteración Número:   4041, Training Accuracy:  95.3%\n",
      "Iteración Número:   4051, Training Accuracy:  98.4%\n",
      "Iteración Número:   4061, Training Accuracy:  98.4%\n",
      "Iteración Número:   4071, Training Accuracy: 100.0%\n",
      "Iteración Número:   4081, Training Accuracy:  98.4%\n",
      "Iteración Número:   4091, Training Accuracy:  98.4%\n",
      "Iteración Número:   4101, Training Accuracy: 100.0%\n",
      "Iteración Número:   4111, Training Accuracy:  90.6%\n",
      "Iteración Número:   4121, Training Accuracy:  98.4%\n",
      "Iteración Número:   4131, Training Accuracy: 100.0%\n",
      "Iteración Número:   4141, Training Accuracy:  95.3%\n",
      "Iteración Número:   4151, Training Accuracy:  98.4%\n"
     ]
    },
    {
     "name": "stdout",
     "output_type": "stream",
     "text": [
      "Iteración Número:   4161, Training Accuracy:  98.4%\n",
      "Iteración Número:   4171, Training Accuracy:  93.8%\n",
      "Iteración Número:   4181, Training Accuracy:  95.3%\n",
      "Iteración Número:   4191, Training Accuracy:  92.2%\n",
      "Iteración Número:   4201, Training Accuracy:  96.9%\n",
      "Iteración Número:   4211, Training Accuracy:  96.9%\n",
      "Iteración Número:   4221, Training Accuracy: 100.0%\n",
      "Iteración Número:   4231, Training Accuracy:  96.9%\n",
      "Iteración Número:   4241, Training Accuracy: 100.0%\n",
      "Iteración Número:   4251, Training Accuracy: 100.0%\n",
      "Iteración Número:   4261, Training Accuracy: 100.0%\n",
      "Iteración Número:   4271, Training Accuracy:  98.4%\n",
      "Iteración Número:   4281, Training Accuracy: 100.0%\n",
      "Iteración Número:   4291, Training Accuracy:  96.9%\n",
      "Iteración Número:   4301, Training Accuracy:  93.8%\n",
      "Iteración Número:   4311, Training Accuracy:  93.8%\n",
      "Iteración Número:   4321, Training Accuracy:  96.9%\n",
      "Iteración Número:   4331, Training Accuracy:  98.4%\n",
      "Iteración Número:   4341, Training Accuracy:  93.8%\n",
      "Iteración Número:   4351, Training Accuracy:  95.3%\n",
      "Iteración Número:   4361, Training Accuracy:  98.4%\n",
      "Iteración Número:   4371, Training Accuracy:  98.4%\n",
      "Iteración Número:   4381, Training Accuracy:  98.4%\n",
      "Iteración Número:   4391, Training Accuracy:  95.3%\n",
      "Iteración Número:   4401, Training Accuracy:  96.9%\n",
      "Iteración Número:   4411, Training Accuracy:  96.9%\n",
      "Iteración Número:   4421, Training Accuracy:  96.9%\n",
      "Iteración Número:   4431, Training Accuracy:  98.4%\n",
      "Iteración Número:   4441, Training Accuracy:  98.4%\n",
      "Iteración Número:   4451, Training Accuracy:  98.4%\n",
      "Iteración Número:   4461, Training Accuracy: 100.0%\n",
      "Iteración Número:   4471, Training Accuracy:  96.9%\n",
      "Iteración Número:   4481, Training Accuracy: 100.0%\n",
      "Iteración Número:   4491, Training Accuracy: 100.0%\n",
      "Iteración Número:   4501, Training Accuracy:  96.9%\n",
      "Iteración Número:   4511, Training Accuracy:  98.4%\n",
      "Iteración Número:   4521, Training Accuracy:  98.4%\n",
      "Iteración Número:   4531, Training Accuracy:  96.9%\n",
      "Iteración Número:   4541, Training Accuracy:  96.9%\n",
      "Iteración Número:   4551, Training Accuracy:  98.4%\n",
      "Iteración Número:   4561, Training Accuracy:  98.4%\n",
      "Iteración Número:   4571, Training Accuracy:  96.9%\n",
      "Iteración Número:   4581, Training Accuracy:  98.4%\n",
      "Iteración Número:   4591, Training Accuracy: 100.0%\n",
      "Iteración Número:   4601, Training Accuracy: 100.0%\n",
      "Iteración Número:   4611, Training Accuracy:  96.9%\n",
      "Iteración Número:   4621, Training Accuracy:  98.4%\n",
      "Iteración Número:   4631, Training Accuracy:  96.9%\n",
      "Iteración Número:   4641, Training Accuracy:  98.4%\n",
      "Iteración Número:   4651, Training Accuracy:  96.9%\n",
      "Iteración Número:   4661, Training Accuracy: 100.0%\n",
      "Iteración Número:   4671, Training Accuracy:  98.4%\n",
      "Iteración Número:   4681, Training Accuracy:  96.9%\n",
      "Iteración Número:   4691, Training Accuracy:  96.9%\n",
      "Iteración Número:   4701, Training Accuracy:  98.4%\n",
      "Iteración Número:   4711, Training Accuracy:  95.3%\n",
      "Iteración Número:   4721, Training Accuracy:  96.9%\n",
      "Iteración Número:   4731, Training Accuracy:  96.9%\n",
      "Iteración Número:   4741, Training Accuracy: 100.0%\n",
      "Iteración Número:   4751, Training Accuracy:  98.4%\n",
      "Iteración Número:   4761, Training Accuracy:  96.9%\n",
      "Iteración Número:   4771, Training Accuracy:  98.4%\n",
      "Iteración Número:   4781, Training Accuracy:  96.9%\n",
      "Iteración Número:   4791, Training Accuracy: 100.0%\n",
      "Iteración Número:   4801, Training Accuracy:  96.9%\n",
      "Iteración Número:   4811, Training Accuracy:  96.9%\n",
      "Iteración Número:   4821, Training Accuracy:  98.4%\n",
      "Iteración Número:   4831, Training Accuracy:  96.9%\n",
      "Iteración Número:   4841, Training Accuracy:  98.4%\n",
      "Iteración Número:   4851, Training Accuracy:  95.3%\n",
      "Iteración Número:   4861, Training Accuracy:  96.9%\n",
      "Iteración Número:   4871, Training Accuracy:  98.4%\n",
      "Iteración Número:   4881, Training Accuracy:  93.8%\n",
      "Iteración Número:   4891, Training Accuracy:  98.4%\n",
      "Iteración Número:   4901, Training Accuracy:  98.4%\n",
      "Iteración Número:   4911, Training Accuracy:  98.4%\n",
      "Iteración Número:   4921, Training Accuracy:  98.4%\n",
      "Iteración Número:   4931, Training Accuracy:  98.4%\n",
      "Iteración Número:   4941, Training Accuracy:  98.4%\n",
      "Iteración Número:   4951, Training Accuracy:  98.4%\n",
      "Iteración Número:   4961, Training Accuracy:  98.4%\n",
      "Iteración Número:   4971, Training Accuracy:  96.9%\n",
      "Iteración Número:   4981, Training Accuracy: 100.0%\n",
      "Iteración Número:   4991, Training Accuracy: 100.0%\n",
      "Iteración Número:   5001, Training Accuracy:  95.3%\n",
      "Iteración Número:   5011, Training Accuracy: 100.0%\n",
      "Iteración Número:   5021, Training Accuracy:  96.9%\n",
      "Iteración Número:   5031, Training Accuracy: 100.0%\n",
      "Iteración Número:   5041, Training Accuracy: 100.0%\n",
      "Iteración Número:   5051, Training Accuracy:  98.4%\n",
      "Iteración Número:   5061, Training Accuracy:  96.9%\n",
      "Iteración Número:   5071, Training Accuracy:  96.9%\n",
      "Iteración Número:   5081, Training Accuracy:  98.4%\n",
      "Iteración Número:   5091, Training Accuracy: 100.0%\n",
      "Iteración Número:   5101, Training Accuracy:  98.4%\n",
      "Iteración Número:   5111, Training Accuracy:  98.4%\n",
      "Iteración Número:   5121, Training Accuracy:  96.9%\n",
      "Iteración Número:   5131, Training Accuracy:  98.4%\n",
      "Iteración Número:   5141, Training Accuracy:  96.9%\n",
      "Iteración Número:   5151, Training Accuracy:  98.4%\n",
      "Iteración Número:   5161, Training Accuracy: 100.0%\n",
      "Iteración Número:   5171, Training Accuracy:  96.9%\n",
      "Iteración Número:   5181, Training Accuracy:  96.9%\n",
      "Iteración Número:   5191, Training Accuracy:  95.3%\n",
      "Iteración Número:   5201, Training Accuracy: 100.0%\n",
      "Iteración Número:   5211, Training Accuracy: 100.0%\n",
      "Iteración Número:   5221, Training Accuracy:  96.9%\n",
      "Iteración Número:   5231, Training Accuracy:  96.9%\n",
      "Iteración Número:   5241, Training Accuracy: 100.0%\n",
      "Iteración Número:   5251, Training Accuracy:  98.4%\n",
      "Iteración Número:   5261, Training Accuracy:  98.4%\n",
      "Iteración Número:   5271, Training Accuracy:  96.9%\n",
      "Iteración Número:   5281, Training Accuracy:  96.9%\n",
      "Iteración Número:   5291, Training Accuracy:  98.4%\n",
      "Iteración Número:   5301, Training Accuracy:  95.3%\n",
      "Iteración Número:   5311, Training Accuracy: 100.0%\n",
      "Iteración Número:   5321, Training Accuracy: 100.0%\n",
      "Iteración Número:   5331, Training Accuracy:  96.9%\n",
      "Iteración Número:   5341, Training Accuracy:  96.9%\n",
      "Iteración Número:   5351, Training Accuracy:  96.9%\n",
      "Iteración Número:   5361, Training Accuracy:  98.4%\n",
      "Iteración Número:   5371, Training Accuracy: 100.0%\n",
      "Iteración Número:   5381, Training Accuracy:  98.4%\n",
      "Iteración Número:   5391, Training Accuracy:  98.4%\n",
      "Iteración Número:   5401, Training Accuracy:  98.4%\n",
      "Iteración Número:   5411, Training Accuracy:  98.4%\n",
      "Iteración Número:   5421, Training Accuracy:  95.3%\n",
      "Iteración Número:   5431, Training Accuracy:  96.9%\n",
      "Iteración Número:   5441, Training Accuracy:  96.9%\n",
      "Iteración Número:   5451, Training Accuracy: 100.0%\n",
      "Iteración Número:   5461, Training Accuracy:  96.9%\n",
      "Iteración Número:   5471, Training Accuracy: 100.0%\n",
      "Iteración Número:   5481, Training Accuracy:  93.8%\n",
      "Iteración Número:   5491, Training Accuracy:  96.9%\n",
      "Iteración Número:   5501, Training Accuracy:  93.8%\n",
      "Iteración Número:   5511, Training Accuracy:  96.9%\n",
      "Iteración Número:   5521, Training Accuracy:  98.4%\n",
      "Iteración Número:   5531, Training Accuracy:  98.4%\n",
      "Iteración Número:   5541, Training Accuracy:  96.9%\n",
      "Iteración Número:   5551, Training Accuracy:  96.9%\n",
      "Iteración Número:   5561, Training Accuracy:  98.4%\n",
      "Iteración Número:   5571, Training Accuracy:  98.4%\n",
      "Iteración Número:   5581, Training Accuracy: 100.0%\n",
      "Iteración Número:   5591, Training Accuracy: 100.0%\n",
      "Iteración Número:   5601, Training Accuracy: 100.0%\n",
      "Iteración Número:   5611, Training Accuracy: 100.0%\n",
      "Iteración Número:   5621, Training Accuracy:  98.4%\n",
      "Iteración Número:   5631, Training Accuracy:  96.9%\n",
      "Iteración Número:   5641, Training Accuracy:  95.3%\n",
      "Iteración Número:   5651, Training Accuracy:  98.4%\n",
      "Iteración Número:   5661, Training Accuracy:  98.4%\n",
      "Iteración Número:   5671, Training Accuracy:  98.4%\n",
      "Iteración Número:   5681, Training Accuracy:  96.9%\n",
      "Iteración Número:   5691, Training Accuracy:  98.4%\n",
      "Iteración Número:   5701, Training Accuracy: 100.0%\n",
      "Iteración Número:   5711, Training Accuracy:  98.4%\n",
      "Iteración Número:   5721, Training Accuracy:  96.9%\n",
      "Iteración Número:   5731, Training Accuracy:  96.9%\n"
     ]
    },
    {
     "name": "stdout",
     "output_type": "stream",
     "text": [
      "Iteración Número:   5741, Training Accuracy:  96.9%\n",
      "Iteración Número:   5751, Training Accuracy:  98.4%\n",
      "Iteración Número:   5761, Training Accuracy:  98.4%\n",
      "Iteración Número:   5771, Training Accuracy:  98.4%\n",
      "Iteración Número:   5781, Training Accuracy:  98.4%\n",
      "Iteración Número:   5791, Training Accuracy: 100.0%\n",
      "Iteración Número:   5801, Training Accuracy:  98.4%\n",
      "Iteración Número:   5811, Training Accuracy:  96.9%\n",
      "Iteración Número:   5821, Training Accuracy:  96.9%\n",
      "Iteración Número:   5831, Training Accuracy:  98.4%\n",
      "Iteración Número:   5841, Training Accuracy:  98.4%\n",
      "Iteración Número:   5851, Training Accuracy:  98.4%\n",
      "Iteración Número:   5861, Training Accuracy:  98.4%\n",
      "Iteración Número:   5871, Training Accuracy:  98.4%\n",
      "Iteración Número:   5881, Training Accuracy:  98.4%\n",
      "Iteración Número:   5891, Training Accuracy: 100.0%\n",
      "Iteración Número:   5901, Training Accuracy:  98.4%\n",
      "Iteración Número:   5911, Training Accuracy:  98.4%\n",
      "Iteración Número:   5921, Training Accuracy: 100.0%\n",
      "Iteración Número:   5931, Training Accuracy:  98.4%\n",
      "Iteración Número:   5941, Training Accuracy:  98.4%\n",
      "Iteración Número:   5951, Training Accuracy: 100.0%\n",
      "Iteración Número:   5961, Training Accuracy:  98.4%\n",
      "Iteración Número:   5971, Training Accuracy: 100.0%\n",
      "Iteración Número:   5981, Training Accuracy:  98.4%\n",
      "Iteración Número:   5991, Training Accuracy:  98.4%\n",
      "Iteración Número:   6001, Training Accuracy: 100.0%\n",
      "Iteración Número:   6011, Training Accuracy:  98.4%\n",
      "Iteración Número:   6021, Training Accuracy:  96.9%\n",
      "Iteración Número:   6031, Training Accuracy:  98.4%\n",
      "Iteración Número:   6041, Training Accuracy: 100.0%\n",
      "Iteración Número:   6051, Training Accuracy:  98.4%\n",
      "Iteración Número:   6061, Training Accuracy:  98.4%\n",
      "Iteración Número:   6071, Training Accuracy:  98.4%\n",
      "Iteración Número:   6081, Training Accuracy:  96.9%\n",
      "Iteración Número:   6091, Training Accuracy: 100.0%\n",
      "Iteración Número:   6101, Training Accuracy:  98.4%\n",
      "Iteración Número:   6111, Training Accuracy:  96.9%\n",
      "Iteración Número:   6121, Training Accuracy:  96.9%\n",
      "Iteración Número:   6131, Training Accuracy:  96.9%\n",
      "Iteración Número:   6141, Training Accuracy:  96.9%\n",
      "Iteración Número:   6151, Training Accuracy: 100.0%\n",
      "Iteración Número:   6161, Training Accuracy:  98.4%\n",
      "Iteración Número:   6171, Training Accuracy:  98.4%\n",
      "Iteración Número:   6181, Training Accuracy: 100.0%\n",
      "Iteración Número:   6191, Training Accuracy:  95.3%\n",
      "Iteración Número:   6201, Training Accuracy: 100.0%\n",
      "Iteración Número:   6211, Training Accuracy:  92.2%\n",
      "Iteración Número:   6221, Training Accuracy:  96.9%\n",
      "Iteración Número:   6231, Training Accuracy:  98.4%\n",
      "Iteración Número:   6241, Training Accuracy:  98.4%\n",
      "Iteración Número:   6251, Training Accuracy:  98.4%\n",
      "Iteración Número:   6261, Training Accuracy: 100.0%\n",
      "Iteración Número:   6271, Training Accuracy:  96.9%\n",
      "Iteración Número:   6281, Training Accuracy:  98.4%\n",
      "Iteración Número:   6291, Training Accuracy:  98.4%\n",
      "Iteración Número:   6301, Training Accuracy:  95.3%\n",
      "Iteración Número:   6311, Training Accuracy:  98.4%\n",
      "Iteración Número:   6321, Training Accuracy: 100.0%\n",
      "Iteración Número:   6331, Training Accuracy: 100.0%\n",
      "Iteración Número:   6341, Training Accuracy: 100.0%\n",
      "Iteración Número:   6351, Training Accuracy:  98.4%\n",
      "Iteración Número:   6361, Training Accuracy:  98.4%\n",
      "Iteración Número:   6371, Training Accuracy:  95.3%\n",
      "Iteración Número:   6381, Training Accuracy:  96.9%\n",
      "Iteración Número:   6391, Training Accuracy:  95.3%\n",
      "Iteración Número:   6401, Training Accuracy:  98.4%\n",
      "Iteración Número:   6411, Training Accuracy:  96.9%\n",
      "Iteración Número:   6421, Training Accuracy:  98.4%\n",
      "Iteración Número:   6431, Training Accuracy: 100.0%\n",
      "Iteración Número:   6441, Training Accuracy:  98.4%\n",
      "Iteración Número:   6451, Training Accuracy:  96.9%\n",
      "Iteración Número:   6461, Training Accuracy: 100.0%\n",
      "Iteración Número:   6471, Training Accuracy:  96.9%\n",
      "Iteración Número:   6481, Training Accuracy:  96.9%\n",
      "Iteración Número:   6491, Training Accuracy: 100.0%\n",
      "Iteración Número:   6501, Training Accuracy: 100.0%\n",
      "Iteración Número:   6511, Training Accuracy:  96.9%\n",
      "Iteración Número:   6521, Training Accuracy:  98.4%\n",
      "Iteración Número:   6531, Training Accuracy: 100.0%\n",
      "Iteración Número:   6541, Training Accuracy:  92.2%\n",
      "Iteración Número:   6551, Training Accuracy: 100.0%\n",
      "Iteración Número:   6561, Training Accuracy:  98.4%\n",
      "Iteración Número:   6571, Training Accuracy: 100.0%\n",
      "Iteración Número:   6581, Training Accuracy:  93.8%\n",
      "Iteración Número:   6591, Training Accuracy: 100.0%\n",
      "Iteración Número:   6601, Training Accuracy:  96.9%\n",
      "Iteración Número:   6611, Training Accuracy: 100.0%\n",
      "Iteración Número:   6621, Training Accuracy: 100.0%\n",
      "Iteración Número:   6631, Training Accuracy:  98.4%\n",
      "Iteración Número:   6641, Training Accuracy: 100.0%\n",
      "Iteración Número:   6651, Training Accuracy:  98.4%\n",
      "Iteración Número:   6661, Training Accuracy:  98.4%\n",
      "Iteración Número:   6671, Training Accuracy: 100.0%\n",
      "Iteración Número:   6681, Training Accuracy:  98.4%\n",
      "Iteración Número:   6691, Training Accuracy: 100.0%\n",
      "Iteración Número:   6701, Training Accuracy:  96.9%\n",
      "Iteración Número:   6711, Training Accuracy:  96.9%\n",
      "Iteración Número:   6721, Training Accuracy:  96.9%\n",
      "Iteración Número:   6731, Training Accuracy: 100.0%\n",
      "Iteración Número:   6741, Training Accuracy:  98.4%\n",
      "Iteración Número:   6751, Training Accuracy:  96.9%\n",
      "Iteración Número:   6761, Training Accuracy:  98.4%\n",
      "Iteración Número:   6771, Training Accuracy:  98.4%\n",
      "Iteración Número:   6781, Training Accuracy:  98.4%\n",
      "Iteración Número:   6791, Training Accuracy:  98.4%\n",
      "Iteración Número:   6801, Training Accuracy:  98.4%\n",
      "Iteración Número:   6811, Training Accuracy: 100.0%\n",
      "Iteración Número:   6821, Training Accuracy:  96.9%\n",
      "Iteración Número:   6831, Training Accuracy: 100.0%\n",
      "Iteración Número:   6841, Training Accuracy:  96.9%\n",
      "Iteración Número:   6851, Training Accuracy:  96.9%\n",
      "Iteración Número:   6861, Training Accuracy: 100.0%\n",
      "Iteración Número:   6871, Training Accuracy: 100.0%\n",
      "Iteración Número:   6881, Training Accuracy: 100.0%\n",
      "Iteración Número:   6891, Training Accuracy: 100.0%\n",
      "Iteración Número:   6901, Training Accuracy: 100.0%\n",
      "Iteración Número:   6911, Training Accuracy:  93.8%\n",
      "Iteración Número:   6921, Training Accuracy:  98.4%\n",
      "Iteración Número:   6931, Training Accuracy: 100.0%\n",
      "Iteración Número:   6941, Training Accuracy:  98.4%\n",
      "Iteración Número:   6951, Training Accuracy: 100.0%\n",
      "Iteración Número:   6961, Training Accuracy: 100.0%\n",
      "Iteración Número:   6971, Training Accuracy:  98.4%\n",
      "Iteración Número:   6981, Training Accuracy: 100.0%\n",
      "Iteración Número:   6991, Training Accuracy: 100.0%\n",
      "Iteración Número:   7001, Training Accuracy:  98.4%\n",
      "Iteración Número:   7011, Training Accuracy:  95.3%\n",
      "Iteración Número:   7021, Training Accuracy:  93.8%\n",
      "Iteración Número:   7031, Training Accuracy:  96.9%\n",
      "Iteración Número:   7041, Training Accuracy:  96.9%\n",
      "Iteración Número:   7051, Training Accuracy:  98.4%\n",
      "Iteración Número:   7061, Training Accuracy:  98.4%\n",
      "Iteración Número:   7071, Training Accuracy:  95.3%\n",
      "Iteración Número:   7081, Training Accuracy: 100.0%\n",
      "Iteración Número:   7091, Training Accuracy:  96.9%\n",
      "Iteración Número:   7101, Training Accuracy:  98.4%\n",
      "Iteración Número:   7111, Training Accuracy: 100.0%\n",
      "Iteración Número:   7121, Training Accuracy:  96.9%\n",
      "Iteración Número:   7131, Training Accuracy:  96.9%\n",
      "Iteración Número:   7141, Training Accuracy:  98.4%\n",
      "Iteración Número:   7151, Training Accuracy: 100.0%\n",
      "Iteración Número:   7161, Training Accuracy:  95.3%\n",
      "Iteración Número:   7171, Training Accuracy: 100.0%\n",
      "Iteración Número:   7181, Training Accuracy:  98.4%\n",
      "Iteración Número:   7191, Training Accuracy:  96.9%\n",
      "Iteración Número:   7201, Training Accuracy:  98.4%\n",
      "Iteración Número:   7211, Training Accuracy:  98.4%\n",
      "Iteración Número:   7221, Training Accuracy:  98.4%\n",
      "Iteración Número:   7231, Training Accuracy: 100.0%\n",
      "Iteración Número:   7241, Training Accuracy: 100.0%\n",
      "Iteración Número:   7251, Training Accuracy:  96.9%\n",
      "Iteración Número:   7261, Training Accuracy: 100.0%\n",
      "Iteración Número:   7271, Training Accuracy: 100.0%\n",
      "Iteración Número:   7281, Training Accuracy: 100.0%\n",
      "Iteración Número:   7291, Training Accuracy:  96.9%\n",
      "Iteración Número:   7301, Training Accuracy:  98.4%\n",
      "Iteración Número:   7311, Training Accuracy:  98.4%\n"
     ]
    },
    {
     "name": "stdout",
     "output_type": "stream",
     "text": [
      "Iteración Número:   7321, Training Accuracy: 100.0%\n",
      "Iteración Número:   7331, Training Accuracy:  98.4%\n",
      "Iteración Número:   7341, Training Accuracy: 100.0%\n",
      "Iteración Número:   7351, Training Accuracy:  98.4%\n",
      "Iteración Número:   7361, Training Accuracy:  98.4%\n",
      "Iteración Número:   7371, Training Accuracy:  95.3%\n",
      "Iteración Número:   7381, Training Accuracy:  98.4%\n",
      "Iteración Número:   7391, Training Accuracy:  98.4%\n",
      "Iteración Número:   7401, Training Accuracy: 100.0%\n",
      "Iteración Número:   7411, Training Accuracy: 100.0%\n",
      "Iteración Número:   7421, Training Accuracy: 100.0%\n",
      "Iteración Número:   7431, Training Accuracy: 100.0%\n",
      "Iteración Número:   7441, Training Accuracy:  96.9%\n",
      "Iteración Número:   7451, Training Accuracy:  96.9%\n",
      "Iteración Número:   7461, Training Accuracy: 100.0%\n",
      "Iteración Número:   7471, Training Accuracy: 100.0%\n",
      "Iteración Número:   7481, Training Accuracy: 100.0%\n",
      "Iteración Número:   7491, Training Accuracy: 100.0%\n",
      "Iteración Número:   7501, Training Accuracy:  96.9%\n",
      "Iteración Número:   7511, Training Accuracy:  96.9%\n",
      "Iteración Número:   7521, Training Accuracy: 100.0%\n",
      "Iteración Número:   7531, Training Accuracy:  98.4%\n",
      "Iteración Número:   7541, Training Accuracy:  98.4%\n",
      "Iteración Número:   7551, Training Accuracy: 100.0%\n",
      "Iteración Número:   7561, Training Accuracy:  98.4%\n",
      "Iteración Número:   7571, Training Accuracy:  98.4%\n",
      "Iteración Número:   7581, Training Accuracy:  96.9%\n",
      "Iteración Número:   7591, Training Accuracy: 100.0%\n",
      "Iteración Número:   7601, Training Accuracy:  98.4%\n",
      "Iteración Número:   7611, Training Accuracy:  96.9%\n",
      "Iteración Número:   7621, Training Accuracy:  98.4%\n",
      "Iteración Número:   7631, Training Accuracy:  96.9%\n",
      "Iteración Número:   7641, Training Accuracy:  98.4%\n",
      "Iteración Número:   7651, Training Accuracy:  98.4%\n",
      "Iteración Número:   7661, Training Accuracy: 100.0%\n",
      "Iteración Número:   7671, Training Accuracy: 100.0%\n",
      "Iteración Número:   7681, Training Accuracy:  98.4%\n",
      "Iteración Número:   7691, Training Accuracy:  96.9%\n",
      "Iteración Número:   7701, Training Accuracy:  98.4%\n",
      "Iteración Número:   7711, Training Accuracy:  98.4%\n",
      "Iteración Número:   7721, Training Accuracy: 100.0%\n",
      "Iteración Número:   7731, Training Accuracy:  98.4%\n",
      "Iteración Número:   7741, Training Accuracy:  98.4%\n",
      "Iteración Número:   7751, Training Accuracy: 100.0%\n",
      "Iteración Número:   7761, Training Accuracy: 100.0%\n",
      "Iteración Número:   7771, Training Accuracy:  98.4%\n",
      "Iteración Número:   7781, Training Accuracy:  95.3%\n",
      "Iteración Número:   7791, Training Accuracy:  95.3%\n",
      "Iteración Número:   7801, Training Accuracy: 100.0%\n",
      "Iteración Número:   7811, Training Accuracy: 100.0%\n",
      "Iteración Número:   7821, Training Accuracy:  98.4%\n",
      "Iteración Número:   7831, Training Accuracy: 100.0%\n",
      "Iteración Número:   7841, Training Accuracy: 100.0%\n",
      "Iteración Número:   7851, Training Accuracy:  98.4%\n",
      "Iteración Número:   7861, Training Accuracy:  96.9%\n",
      "Iteración Número:   7871, Training Accuracy:  98.4%\n",
      "Iteración Número:   7881, Training Accuracy:  98.4%\n",
      "Iteración Número:   7891, Training Accuracy:  96.9%\n",
      "Iteración Número:   7901, Training Accuracy: 100.0%\n",
      "Iteración Número:   7911, Training Accuracy: 100.0%\n",
      "Iteración Número:   7921, Training Accuracy:  96.9%\n",
      "Iteración Número:   7931, Training Accuracy: 100.0%\n",
      "Iteración Número:   7941, Training Accuracy: 100.0%\n",
      "Iteración Número:   7951, Training Accuracy:  95.3%\n",
      "Iteración Número:   7961, Training Accuracy:  98.4%\n",
      "Iteración Número:   7971, Training Accuracy:  96.9%\n",
      "Iteración Número:   7981, Training Accuracy:  96.9%\n",
      "Iteración Número:   7991, Training Accuracy: 100.0%\n",
      "Iteración Número:   8001, Training Accuracy: 100.0%\n",
      "Iteración Número:   8011, Training Accuracy:  98.4%\n",
      "Iteración Número:   8021, Training Accuracy:  98.4%\n",
      "Iteración Número:   8031, Training Accuracy: 100.0%\n",
      "Iteración Número:   8041, Training Accuracy:  98.4%\n",
      "Iteración Número:   8051, Training Accuracy: 100.0%\n",
      "Iteración Número:   8061, Training Accuracy: 100.0%\n",
      "Iteración Número:   8071, Training Accuracy:  98.4%\n",
      "Iteración Número:   8081, Training Accuracy:  96.9%\n",
      "Iteración Número:   8091, Training Accuracy: 100.0%\n",
      "Iteración Número:   8101, Training Accuracy:  98.4%\n",
      "Iteración Número:   8111, Training Accuracy: 100.0%\n",
      "Iteración Número:   8121, Training Accuracy: 100.0%\n",
      "Iteración Número:   8131, Training Accuracy: 100.0%\n",
      "Iteración Número:   8141, Training Accuracy:  96.9%\n",
      "Iteración Número:   8151, Training Accuracy:  98.4%\n",
      "Iteración Número:   8161, Training Accuracy: 100.0%\n",
      "Iteración Número:   8171, Training Accuracy: 100.0%\n",
      "Iteración Número:   8181, Training Accuracy:  98.4%\n",
      "Iteración Número:   8191, Training Accuracy:  98.4%\n",
      "Iteración Número:   8201, Training Accuracy: 100.0%\n",
      "Iteración Número:   8211, Training Accuracy:  96.9%\n",
      "Iteración Número:   8221, Training Accuracy:  98.4%\n",
      "Iteración Número:   8231, Training Accuracy:  98.4%\n",
      "Iteración Número:   8241, Training Accuracy:  98.4%\n",
      "Iteración Número:   8251, Training Accuracy:  96.9%\n",
      "Iteración Número:   8261, Training Accuracy: 100.0%\n",
      "Iteración Número:   8271, Training Accuracy: 100.0%\n",
      "Iteración Número:   8281, Training Accuracy:  98.4%\n",
      "Iteración Número:   8291, Training Accuracy:  96.9%\n",
      "Iteración Número:   8301, Training Accuracy:  98.4%\n",
      "Iteración Número:   8311, Training Accuracy:  98.4%\n",
      "Iteración Número:   8321, Training Accuracy:  95.3%\n",
      "Iteración Número:   8331, Training Accuracy:  95.3%\n",
      "Iteración Número:   8341, Training Accuracy:  98.4%\n",
      "Iteración Número:   8351, Training Accuracy: 100.0%\n",
      "Iteración Número:   8361, Training Accuracy:  95.3%\n",
      "Iteración Número:   8371, Training Accuracy: 100.0%\n",
      "Iteración Número:   8381, Training Accuracy: 100.0%\n",
      "Iteración Número:   8391, Training Accuracy: 100.0%\n",
      "Iteración Número:   8401, Training Accuracy:  96.9%\n",
      "Iteración Número:   8411, Training Accuracy:  98.4%\n",
      "Iteración Número:   8421, Training Accuracy:  98.4%\n",
      "Iteración Número:   8431, Training Accuracy: 100.0%\n",
      "Iteración Número:   8441, Training Accuracy: 100.0%\n",
      "Iteración Número:   8451, Training Accuracy: 100.0%\n",
      "Iteración Número:   8461, Training Accuracy: 100.0%\n",
      "Iteración Número:   8471, Training Accuracy:  96.9%\n",
      "Iteración Número:   8481, Training Accuracy:  98.4%\n",
      "Iteración Número:   8491, Training Accuracy: 100.0%\n",
      "Iteración Número:   8501, Training Accuracy: 100.0%\n",
      "Iteración Número:   8511, Training Accuracy: 100.0%\n",
      "Iteración Número:   8521, Training Accuracy:  96.9%\n",
      "Iteración Número:   8531, Training Accuracy: 100.0%\n",
      "Iteración Número:   8541, Training Accuracy:  98.4%\n",
      "Iteración Número:   8551, Training Accuracy: 100.0%\n",
      "Iteración Número:   8561, Training Accuracy: 100.0%\n",
      "Iteración Número:   8571, Training Accuracy: 100.0%\n",
      "Iteración Número:   8581, Training Accuracy:  98.4%\n",
      "Iteración Número:   8591, Training Accuracy:  98.4%\n",
      "Iteración Número:   8601, Training Accuracy:  98.4%\n",
      "Iteración Número:   8611, Training Accuracy: 100.0%\n",
      "Iteración Número:   8621, Training Accuracy: 100.0%\n",
      "Iteración Número:   8631, Training Accuracy:  98.4%\n",
      "Iteración Número:   8641, Training Accuracy:  98.4%\n",
      "Iteración Número:   8651, Training Accuracy:  96.9%\n",
      "Iteración Número:   8661, Training Accuracy: 100.0%\n",
      "Iteración Número:   8671, Training Accuracy: 100.0%\n",
      "Iteración Número:   8681, Training Accuracy:  98.4%\n",
      "Iteración Número:   8691, Training Accuracy: 100.0%\n",
      "Iteración Número:   8701, Training Accuracy:  98.4%\n",
      "Iteración Número:   8711, Training Accuracy: 100.0%\n",
      "Iteración Número:   8721, Training Accuracy: 100.0%\n",
      "Iteración Número:   8731, Training Accuracy:  96.9%\n",
      "Iteración Número:   8741, Training Accuracy:  96.9%\n",
      "Iteración Número:   8751, Training Accuracy:  98.4%\n",
      "Iteración Número:   8761, Training Accuracy:  96.9%\n",
      "Iteración Número:   8771, Training Accuracy:  98.4%\n",
      "Iteración Número:   8781, Training Accuracy: 100.0%\n",
      "Iteración Número:   8791, Training Accuracy:  98.4%\n",
      "Iteración Número:   8801, Training Accuracy: 100.0%\n",
      "Iteración Número:   8811, Training Accuracy: 100.0%\n",
      "Iteración Número:   8821, Training Accuracy:  96.9%\n",
      "Iteración Número:   8831, Training Accuracy:  98.4%\n",
      "Iteración Número:   8841, Training Accuracy:  96.9%\n",
      "Iteración Número:   8851, Training Accuracy:  98.4%\n",
      "Iteración Número:   8861, Training Accuracy: 100.0%\n",
      "Iteración Número:   8871, Training Accuracy: 100.0%\n",
      "Iteración Número:   8881, Training Accuracy:  95.3%\n",
      "Iteración Número:   8891, Training Accuracy:  98.4%\n"
     ]
    },
    {
     "name": "stdout",
     "output_type": "stream",
     "text": [
      "Iteración Número:   8901, Training Accuracy:  98.4%\n",
      "Iteración Número:   8911, Training Accuracy:  98.4%\n",
      "Iteración Número:   8921, Training Accuracy:  98.4%\n",
      "Iteración Número:   8931, Training Accuracy:  98.4%\n",
      "Iteración Número:   8941, Training Accuracy: 100.0%\n",
      "Iteración Número:   8951, Training Accuracy: 100.0%\n",
      "Iteración Número:   8961, Training Accuracy:  96.9%\n",
      "Iteración Número:   8971, Training Accuracy:  98.4%\n",
      "Iteración Número:   8981, Training Accuracy: 100.0%\n",
      "Iteración Número:   8991, Training Accuracy:  98.4%\n",
      "Iteración Número:   9001, Training Accuracy: 100.0%\n",
      "Iteración Número:   9011, Training Accuracy:  98.4%\n",
      "Iteración Número:   9021, Training Accuracy:  98.4%\n",
      "Iteración Número:   9031, Training Accuracy:  98.4%\n",
      "Iteración Número:   9041, Training Accuracy: 100.0%\n",
      "Iteración Número:   9051, Training Accuracy: 100.0%\n",
      "Iteración Número:   9061, Training Accuracy: 100.0%\n",
      "Iteración Número:   9071, Training Accuracy:  96.9%\n",
      "Iteración Número:   9081, Training Accuracy: 100.0%\n",
      "Iteración Número:   9091, Training Accuracy:  96.9%\n",
      "Iteración Número:   9101, Training Accuracy:  98.4%\n",
      "Iteración Número:   9111, Training Accuracy: 100.0%\n",
      "Iteración Número:   9121, Training Accuracy:  96.9%\n",
      "Iteración Número:   9131, Training Accuracy:  98.4%\n",
      "Iteración Número:   9141, Training Accuracy: 100.0%\n",
      "Iteración Número:   9151, Training Accuracy:  98.4%\n",
      "Iteración Número:   9161, Training Accuracy: 100.0%\n",
      "Iteración Número:   9171, Training Accuracy: 100.0%\n",
      "Iteración Número:   9181, Training Accuracy: 100.0%\n",
      "Iteración Número:   9191, Training Accuracy: 100.0%\n",
      "Iteración Número:   9201, Training Accuracy:  98.4%\n",
      "Iteración Número:   9211, Training Accuracy: 100.0%\n",
      "Iteración Número:   9221, Training Accuracy:  98.4%\n",
      "Iteración Número:   9231, Training Accuracy:  98.4%\n",
      "Iteración Número:   9241, Training Accuracy: 100.0%\n",
      "Iteración Número:   9251, Training Accuracy:  96.9%\n",
      "Iteración Número:   9261, Training Accuracy:  98.4%\n",
      "Iteración Número:   9271, Training Accuracy: 100.0%\n",
      "Iteración Número:   9281, Training Accuracy: 100.0%\n",
      "Iteración Número:   9291, Training Accuracy:  98.4%\n",
      "Iteración Número:   9301, Training Accuracy:  96.9%\n",
      "Iteración Número:   9311, Training Accuracy:  98.4%\n",
      "Iteración Número:   9321, Training Accuracy:  96.9%\n",
      "Iteración Número:   9331, Training Accuracy:  98.4%\n",
      "Iteración Número:   9341, Training Accuracy: 100.0%\n",
      "Iteración Número:   9351, Training Accuracy:  96.9%\n",
      "Iteración Número:   9361, Training Accuracy:  95.3%\n",
      "Iteración Número:   9371, Training Accuracy: 100.0%\n",
      "Iteración Número:   9381, Training Accuracy:  98.4%\n",
      "Iteración Número:   9391, Training Accuracy: 100.0%\n",
      "Iteración Número:   9401, Training Accuracy:  98.4%\n",
      "Iteración Número:   9411, Training Accuracy: 100.0%\n",
      "Iteración Número:   9421, Training Accuracy: 100.0%\n",
      "Iteración Número:   9431, Training Accuracy:  98.4%\n",
      "Iteración Número:   9441, Training Accuracy:  98.4%\n",
      "Iteración Número:   9451, Training Accuracy: 100.0%\n",
      "Iteración Número:   9461, Training Accuracy: 100.0%\n",
      "Iteración Número:   9471, Training Accuracy: 100.0%\n",
      "Iteración Número:   9481, Training Accuracy: 100.0%\n",
      "Iteración Número:   9491, Training Accuracy:  98.4%\n",
      "Iteración Número:   9501, Training Accuracy:  98.4%\n",
      "Iteración Número:   9511, Training Accuracy:  96.9%\n",
      "Iteración Número:   9521, Training Accuracy:  98.4%\n",
      "Iteración Número:   9531, Training Accuracy: 100.0%\n",
      "Iteración Número:   9541, Training Accuracy:  98.4%\n",
      "Iteración Número:   9551, Training Accuracy:  96.9%\n",
      "Iteración Número:   9561, Training Accuracy: 100.0%\n",
      "Iteración Número:   9571, Training Accuracy:  95.3%\n",
      "Iteración Número:   9581, Training Accuracy: 100.0%\n",
      "Iteración Número:   9591, Training Accuracy:  96.9%\n",
      "Iteración Número:   9601, Training Accuracy: 100.0%\n",
      "Iteración Número:   9611, Training Accuracy: 100.0%\n",
      "Iteración Número:   9621, Training Accuracy: 100.0%\n",
      "Iteración Número:   9631, Training Accuracy:  98.4%\n",
      "Iteración Número:   9641, Training Accuracy:  98.4%\n",
      "Iteración Número:   9651, Training Accuracy: 100.0%\n",
      "Iteración Número:   9661, Training Accuracy:  98.4%\n",
      "Iteración Número:   9671, Training Accuracy: 100.0%\n",
      "Iteración Número:   9681, Training Accuracy:  98.4%\n",
      "Iteración Número:   9691, Training Accuracy: 100.0%\n",
      "Iteración Número:   9701, Training Accuracy: 100.0%\n",
      "Iteración Número:   9711, Training Accuracy: 100.0%\n",
      "Iteración Número:   9721, Training Accuracy:  98.4%\n",
      "Iteración Número:   9731, Training Accuracy: 100.0%\n",
      "Iteración Número:   9741, Training Accuracy:  98.4%\n",
      "Iteración Número:   9751, Training Accuracy: 100.0%\n",
      "Iteración Número:   9761, Training Accuracy:  98.4%\n",
      "Iteración Número:   9771, Training Accuracy:  98.4%\n",
      "Iteración Número:   9781, Training Accuracy:  96.9%\n",
      "Iteración Número:   9791, Training Accuracy: 100.0%\n",
      "Iteración Número:   9801, Training Accuracy:  98.4%\n",
      "Iteración Número:   9811, Training Accuracy:  96.9%\n",
      "Iteración Número:   9821, Training Accuracy:  98.4%\n",
      "Iteración Número:   9831, Training Accuracy: 100.0%\n",
      "Iteración Número:   9841, Training Accuracy: 100.0%\n",
      "Iteración Número:   9851, Training Accuracy:  98.4%\n",
      "Iteración Número:   9861, Training Accuracy: 100.0%\n",
      "Iteración Número:   9871, Training Accuracy:  96.9%\n",
      "Iteración Número:   9881, Training Accuracy: 100.0%\n",
      "Iteración Número:   9891, Training Accuracy:  98.4%\n",
      "Iteración Número:   9901, Training Accuracy:  96.9%\n",
      "Iteración Número:   9911, Training Accuracy: 100.0%\n",
      "Iteración Número:   9921, Training Accuracy:  98.4%\n",
      "Iteración Número:   9931, Training Accuracy: 100.0%\n",
      "Iteración Número:   9941, Training Accuracy:  96.9%\n",
      "Iteración Número:   9951, Training Accuracy:  98.4%\n",
      "Iteración Número:   9961, Training Accuracy: 100.0%\n",
      "Iteración Número:   9971, Training Accuracy:  98.4%\n",
      "Iteración Número:   9981, Training Accuracy:  98.4%\n",
      "Iteración Número:   9991, Training Accuracy: 100.0%\n",
      "Tiempo utilizado: 0:14:22\n"
     ]
    }
   ],
   "source": [
    "optimize(num_iterations=9000)"
   ]
  },
  {
   "cell_type": "code",
   "execution_count": 166,
   "metadata": {},
   "outputs": [
    {
     "name": "stdout",
     "output_type": "stream",
     "text": [
      "Accuracy en la muestra de test: 98.4% (9838 / 10000)\n",
      "Ejemplos de clasificaciones erroneas:\n"
     ]
    },
    {
     "data": {
      "image/png": "[encoded data removed]",
      "text/plain": [
       "<matplotlib.figure.Figure at 0x7f024a7ada58>"
      ]
     },
     "metadata": {},
     "output_type": "display_data"
    },
    {
     "name": "stdout",
     "output_type": "stream",
     "text": [
      "Matriz de confusión:\n",
      "[[ 975    0    0    0    0    0    2    1    2    0]\n",
      " [   0 1114    3    1    1    0    2    1   13    0]\n",
      " [   6    0 1011    2    1    0    0    3    9    0]\n",
      " [   2    0    0 1002    0    2    0    1    3    0]\n",
      " [   1    0    1    0  971    0    1    0    2    6]\n",
      " [   2    0    1    9    0  871    3    1    3    2]\n",
      " [   6    1    0    1    2    3  941    0    4    0]\n",
      " [   1    1    6    1    0    0    0 1011    2    6]\n",
      " [   3    0    3    2    1    0    1    2  960    2]\n",
      " [   6    2    0    4    6    0    0    3    6  982]]\n"
     ]
    },
    {
     "data": {
      "image/png": "[encoded data removed]",
      "text/plain": [
       "<matplotlib.figure.Figure at 0x7f024662b2b0>"
      ]
     },
     "metadata": {},
     "output_type": "display_data"
    }
   ],
   "source": [
    "print_test_accuracy(show_example_errors=True,\n",
    "                    show_confusion_matrix=True)"
   ]
  },
  {
   "cell_type": "markdown",
   "metadata": {},
   "source": [
    "Finalmente, la RNC consigue un acierto del 98.4% en la muestra de test. Aún se observan algunos ejemplos que no ha conseguido clasificar por completo. Hay que reconocer que entre los ejemplos de errores, existen algunos que parecen básicos para una red neuronal que obtiene un porcentaje de *accuracy* tan alto. En la matriz de confusión se puede observar como los principales errores los comete en los números 0 y 8 -aunque también el 9 y el 3-. Por tanto, se puede concluir que no ha terminado de comprender las formas y trazos circulares. Además, en estos números, hay que destacar que se realizan combinaciones distintas de trazos circulares -unos abiertos, otros cerrados, algunos dobles-, por lo tanto, es el elemento más complejo de aprender para la red neuronal. "
   ]
  },
  {
   "cell_type": "markdown",
   "metadata": {
    "collapsed": true
   },
   "source": [
    "## Visualización de los filtros o kernels\n",
    "\n",
    "Tratando de comprender cómo reconoce la RNC los números, se podrían visualizar los filtros y las imágenes que resultan del mapa de características.\n"
   ]
  },
  {
   "cell_type": "markdown",
   "metadata": {
    "collapsed": true
   },
   "source": [
    "### Función para representar los filtros o kernels"
   ]
  },
  {
   "cell_type": "code",
   "execution_count": 103,
   "metadata": {},
   "outputs": [],
   "source": [
    "def plot_conv_weights(weights, input_channel=0):\n",
    "    # Se asume que los pesos son operaciones TensorFlow para variables\n",
    "    # de 4 dimensiones; por ejemplo weights_conv1 or weights_conv2.\n",
    "    \n",
    "    # Se recuperan los valores de las variables de peso de TensorFlow.\n",
    "    w = session.run(weights)\n",
    "\n",
    "    # Sacamos el valor máximo y mínimo de los pesos.\n",
    "    # Esto se utiliza para corregir la intensidad del color \n",
    "    # de las imágenes para que puedan ser comparadas.\n",
    "    w_min = np.min(w)\n",
    "    w_max = np.max(w)\n",
    "\n",
    "    # Número de filtros en la capa convolucional.\n",
    "    num_filters = w.shape[3]\n",
    "\n",
    "    # Número de grids para dibujar.\n",
    "    # Es alrededor de la raíz cuadrada del número de filtros.\n",
    "    num_grids = math.ceil(math.sqrt(num_filters))\n",
    "    \n",
    "    # Creamos una figura con el conjunto de sub-plots.\n",
    "    fig, axes = plt.subplots(num_grids, num_grids)\n",
    "\n",
    "    # Graficamos los pesos de todos los filtros.\n",
    "    for i, ax in enumerate(axes.flat):\n",
    "        # Sólo los válidos:\n",
    "        if i<num_filters:\n",
    "            \n",
    "            img = w[:, :, input_channel, i]\n",
    "\n",
    "            # Sacamos la imagen.\n",
    "            ax.imshow(img, vmin=w_min, vmax=w_max,\n",
    "                      interpolation='nearest', cmap='seismic')\n",
    "        \n",
    "        # Quitamos los ticks del gráfico.\n",
    "        ax.set_xticks([])\n",
    "        ax.set_yticks([])\n",
    "    \n",
    "    \n",
    "    plt.show()"
   ]
  },
  {
   "cell_type": "markdown",
   "metadata": {
    "collapsed": true
   },
   "source": [
    "### Función para representar los output de las capas ocultas"
   ]
  },
  {
   "cell_type": "code",
   "execution_count": 104,
   "metadata": {},
   "outputs": [],
   "source": [
    "def plot_conv_layer(layer, image):\n",
    "    # Se asume que los pesos son operaciones TensorFlow para variables\n",
    "    # de 4 dimensiones; por ejemplo weights_conv1 or weights_conv2.\n",
    "    # Esto es la salida de la capa convolucional 1.\n",
    "\n",
    "\n",
    "    # Creamos un diccionario con sólo imágenes.\n",
    "    # Vemos que no le damos nada al valor y ya que \n",
    "    # no lo necesitamos en este cálculo.\n",
    "    feed_dict = {x: [image]}\n",
    "\n",
    "    # Se calculan y recuperan los valores de salida de la capa\n",
    "    # cuando metemos esa imagen.\n",
    "    values = session.run(layer, feed_dict=feed_dict)\n",
    "\n",
    "    # Número de filtros utilizados en esta capa de conv.\n",
    "    num_filters = values.shape[3]\n",
    "\n",
    "    # Número de cuadrículas que representar.\n",
    "    # Es alrededor de la raíz cuadrada del número de filtros.\n",
    "    num_grids = math.ceil(math.sqrt(num_filters))\n",
    "    \n",
    "    # Creamos una figura con el conjunto de sub-plots.\n",
    "    fig, axes = plt.subplots(num_grids, num_grids)\n",
    "\n",
    "    # Graficamos las imágenes del output de cada filtro.\n",
    "    for i, ax in enumerate(axes.flat):\n",
    "        # Sólo las imágenes de los filtros válidos:\n",
    "        if i<num_filters:\n",
    "            \n",
    "            img = values[0, :, :, i]\n",
    "\n",
    "            # Sacamos la imagen.\n",
    "            ax.imshow(img, interpolation='nearest', cmap='binary')\n",
    "        \n",
    "        # Quitamos los ticks de los gráficos.\n",
    "        ax.set_xticks([])\n",
    "        ax.set_yticks([])\n",
    "    \n",
    "    \n",
    "    plt.show()"
   ]
  },
  {
   "cell_type": "markdown",
   "metadata": {
    "collapsed": true
   },
   "source": [
    "### Imagenes de entrada"
   ]
  },
  {
   "cell_type": "markdown",
   "metadata": {
    "collapsed": true
   },
   "source": [
    "Función para representar las imágenes."
   ]
  },
  {
   "cell_type": "code",
   "execution_count": 78,
   "metadata": {},
   "outputs": [],
   "source": [
    "def plot_image(image):\n",
    "    plt.imshow(image.reshape(img_shape),\n",
    "               interpolation='nearest',\n",
    "               cmap='binary')\n",
    "\n",
    "    plt.show()"
   ]
  },
  {
   "cell_type": "markdown",
   "metadata": {},
   "source": [
    "A continuación se muestran un par de imágenes que próximamente se enseñará su mutación tras pasar por las capas ocultas. De esta forma, es posible aproximarse a la forma de pensar de la RNC."
   ]
  },
  {
   "cell_type": "code",
   "execution_count": 167,
   "metadata": {},
   "outputs": [
    {
     "data": {
      "image/png": "[encoded data removed]",
      "text/plain": [
       "<matplotlib.figure.Figure at 0x7f02462ed780>"
      ]
     },
     "metadata": {},
     "output_type": "display_data"
    }
   ],
   "source": [
    "image1 = data.test.images[0]\n",
    "plot_image(image1) # Un 7"
   ]
  },
  {
   "cell_type": "code",
   "execution_count": 168,
   "metadata": {},
   "outputs": [
    {
     "data": {
      "image/png": "[encoded data removed]",
      "text/plain": [
       "<matplotlib.figure.Figure at 0x7f0247b1c198>"
      ]
     },
     "metadata": {},
     "output_type": "display_data"
    }
   ],
   "source": [
    "image2 = data.test.images[13]\n",
    "plot_image(image2) # Un 0"
   ]
  },
  {
   "cell_type": "markdown",
   "metadata": {},
   "source": [
    "### Proceso de identificación en la primera capa oculta convolucional"
   ]
  },
  {
   "cell_type": "markdown",
   "metadata": {},
   "source": [
    "A continuación se representan los filtros de la primera capa oculta.\n",
    "\n",
    "Los pesos positivos son rojos y los negativos son azules."
   ]
  },
  {
   "cell_type": "code",
   "execution_count": 169,
   "metadata": {},
   "outputs": [
    {
     "data": {
      "image/png": "[encoded data removed]",
      "text/plain": [
       "<matplotlib.figure.Figure at 0x7f0247bd7eb8>"
      ]
     },
     "metadata": {},
     "output_type": "display_data"
    }
   ],
   "source": [
    "plot_conv_weights(weights = weights_conv1)"
   ]
  },
  {
   "cell_type": "markdown",
   "metadata": {},
   "source": [
    "Aplicar estos filtros sobre la imagen original devuelve las siguientes imágenes -que serán el input de la segunda capa- tras pasar por la primera capa oculta. Véase que las imágenes se han reducido a 14x14 mediante el proceso de Pooling, es decir, la mitad de la resolución de la imagen original."
   ]
  },
  {
   "cell_type": "code",
   "execution_count": 170,
   "metadata": {},
   "outputs": [
    {
     "data": {
      "image/png": "[encoded data removed]",
      "text/plain": [
       "<matplotlib.figure.Figure at 0x7f0247b73470>"
      ]
     },
     "metadata": {},
     "output_type": "display_data"
    }
   ],
   "source": [
    "plot_conv_layer(layer=layer_conv1, image=image1)"
   ]
  },
  {
   "cell_type": "markdown",
   "metadata": {},
   "source": [
    "Y estos son los resultados de aplicar los filtros a la segunda imagen de ejemplo."
   ]
  },
  {
   "cell_type": "code",
   "execution_count": 171,
   "metadata": {},
   "outputs": [
    {
     "data": {
      "image/png": "[encoded data removed]",
      "text/plain": [
       "<matplotlib.figure.Figure at 0x7f0246370748>"
      ]
     },
     "metadata": {},
     "output_type": "display_data"
    }
   ],
   "source": [
    "plot_conv_layer(layer=layer_conv1, image=image2)"
   ]
  },
  {
   "cell_type": "markdown",
   "metadata": {},
   "source": [
    "Es dificil de comprender qué pretende hacer la red neuronal en esta primera capa, parece que ha creado diferentes versiones de la misma imagen. El cero se ve más deformado porque los filtros actuan sobre características concretas de la imagen. En este caso parece que se está centrando en identificar por un lado los bordes del cero (cuando la traza es blanca) y por otro lado trata de detectar la forma circular en sí (cuando la traza es negra). Parece como si el número hubiera sido iluminado y se están detectando las sombras proyectadas."
   ]
  },
  {
   "cell_type": "markdown",
   "metadata": {},
   "source": [
    "### Proceso de identificación en la segunda capa oculta convolucional"
   ]
  },
  {
   "cell_type": "markdown",
   "metadata": {},
   "source": [
    "A continuación se harán los gráficos de los filtros e imágenes de la segunda capa convolucional. Recuérdese que existían 16 grupos de neuronas que incluían 36 filtros cada grupo. Dado que estos no aportan mucho valor al análisis actual solo se representarán un par de ellos."
   ]
  },
  {
   "cell_type": "markdown",
   "metadata": {},
   "source": [
    "Filtros del primer *channel* o grupo:"
   ]
  },
  {
   "cell_type": "code",
   "execution_count": 172,
   "metadata": {},
   "outputs": [
    {
     "data": {
      "image/png": "[encoded data removed]",
      "text/plain": [
       "<matplotlib.figure.Figure at 0x7f0247a5ae80>"
      ]
     },
     "metadata": {},
     "output_type": "display_data"
    }
   ],
   "source": [
    "plot_conv_weights(weights=weights_conv2, input_channel=0)"
   ]
  },
  {
   "cell_type": "markdown",
   "metadata": {},
   "source": [
    "Filtros del segundo *channel* o grupo:"
   ]
  },
  {
   "cell_type": "code",
   "execution_count": 173,
   "metadata": {},
   "outputs": [
    {
     "data": {
      "image/png": "[encoded data removed]",
      "text/plain": [
       "<matplotlib.figure.Figure at 0x7f0246449b70>"
      ]
     },
     "metadata": {},
     "output_type": "display_data"
    }
   ],
   "source": [
    "plot_conv_weights(weights=weights_conv2, input_channel=1)"
   ]
  },
  {
   "cell_type": "markdown",
   "metadata": {},
   "source": [
    "Intentar entender estos filtros es una tarea sin demasiado sentido, la complejidad es muy alta y son bastante abstractos. Tan solo se puede decir que cada uno estudia un aspecto que la red neuronal ha considerado representativo de las imágenes."
   ]
  },
  {
   "cell_type": "markdown",
   "metadata": {},
   "source": [
    "Tras aplicar estos filtros a las imágenes de entrada (que eran salida de la primera capa convolucional), se obtienen los siguientes resultados. En esta ocasión, tras el proceso de Pooling se han reducido a 7x7."
   ]
  },
  {
   "cell_type": "code",
   "execution_count": 174,
   "metadata": {},
   "outputs": [
    {
     "data": {
      "image/png": "[encoded data removed]",
      "text/plain": [
       "<matplotlib.figure.Figure at 0x7f0244f4feb8>"
      ]
     },
     "metadata": {},
     "output_type": "display_data"
    }
   ],
   "source": [
    "plot_conv_layer(layer=layer_conv2, image=image1)"
   ]
  },
  {
   "cell_type": "markdown",
   "metadata": {},
   "source": [
    "Y para el número cero:"
   ]
  },
  {
   "cell_type": "code",
   "execution_count": 175,
   "metadata": {},
   "outputs": [
    {
     "data": {
      "image/png": "[encoded data removed]",
      "text/plain": [
       "<matplotlib.figure.Figure at 0x7f024871bc50>"
      ]
     },
     "metadata": {},
     "output_type": "display_data"
    }
   ],
   "source": [
    "plot_conv_layer(layer=layer_conv2, image=image2)"
   ]
  },
  {
   "cell_type": "markdown",
   "metadata": {},
   "source": [
    "Si se analizan con detenimiento -y con algo de imaginación si se permite decirlo-, la red neuronal parece estar detectando patrones lineales -en el caso del número siete-. Los píxeles más oscuros parecen tomar formas más rectas que identifican las trazas del número. Esto parece lógico en cuanto a manuscripción se refiere; para escribir un siete se dibujaría una línea vertical y otra horizontal, el número sigue patrones lineales, y parece que la red neuronal ha conseguido descubrirlos. En cualquier lugar, es muy dificil de interpretar el reconocimiento de características por parte de la red neuronal. El mejor análisis post-test es el porcentaje de *accuracy*, la matriz de confusión (aunque dado su elevado acierto se simplifica el análisis) y, lo más importante, valorar si los errores cometidos son lógicos, es decir, si un humano también habría dudado en su clasificación."
   ]
  },
  {
   "cell_type": "markdown",
   "metadata": {},
   "source": [
    "## Conclusiones"
   ]
  },
  {
   "cell_type": "markdown",
   "metadata": {},
   "source": [
    "El aprendizaje automático ha sido materia de investigación durante décadas. Hoy en día, gracias al gran volumen de datos con la llegada del Big Data  y a una capacidad de computación grande se está empezando a utilizar cada vez más. \n",
    "\n",
    "TensorFlow es una librería de aprendizaje automático que permite construir, entrenar y ejecutar redes neuronales de manera muy ágil. El algoritmo se representa como un grafo de flujo de datos, permitiendo sacar provecho tanto de CPUs como de GPUs en múltiples entornos. TensorFlow también tiene un visualizador TensorBoard que permite obtener información sobre cómo está funcionando el algoritmo. Poder medir y visualizar resulta muy importante para la creación de mejores modelos.\n",
    "\n",
    "En este trabajo se presenta una forma de procesamiento de los dígitos manuscritos basados en el entrenamiento de una Red Neuronal Convolucional  para su reconocimiento. Estas redes son una de las arquitecturas de aprendizaje profundo más populares, y están diseñadas específicamente para resolver problemas de visión artificial como el reconocimiento de patrones y la clasificación de imágenes. El objetivo ha sido aprender el funcionamiento de una red neuronal y de la librería TensorFlow.\n",
    "\n",
    "Se ha empleado un conjunto de datos formado por 70.000 imágenes en blanco y negro de dígitos hechos a mano. Consta de 50.000 imágenes para entrenar al modelo y 10.000 imágenes para testear el modelo. Nos permite no tener que dedicar mucho tiempo al preproceso y formateado de las imágenes, ambos pasos muy importantes y generalmente costosos en tiempo.\n",
    "\n",
    "En base a los resultados obtenidos se muestra que nuestro enfoque es acertado. El sistema logra un porcentaje de reconocimiento del 99%  de  accuracy sobre el conjunto de test. Por tanto, se puede concluir que el resultado ha sido satisfactorio."
   ]
  },
  {
   "cell_type": "markdown",
   "metadata": {},
   "source": [
    "### Bibliografía"
   ]
  },
  {
   "cell_type": "markdown",
   "metadata": {},
   "source": [
    "Instalar TensorFlow en Docker: https://hub.docker.com/u/tensorflow/\n",
    "\n",
    "https://www.tensorflow.org/\n",
    "\n",
    "https://www.tensorflow.org/versions/r0.12/tutorials/mnist/beginners/\n",
    "\n",
    "https://www.tensorflow.org/tutorials/deep_cnn\n",
    "\n",
    "https://es.scribd.com/document/357782245/Redes-Neuronales-Convolucionales\n",
    "\n",
    "http://timdettmers.com/2015/03/26/convolution-deep-learning/\n",
    "\n",
    "https://allenlu2007.wordpress.com/2017/06/21/mnist-nn-visualization/\n",
    "\n",
    "https://www.youtube.com/watch?v=HMcx-zY8JSg\n",
    "\n",
    "https://www.youtube.com/watch?v=mynJtLhhcXk\n",
    "\n",
    "https://www.youtube.com/watch?v=umGJ30-15_A\n",
    "\n",
    "https://medium.com/@awjuliani/visualizing-neural-network-layer-activation-tensorflow-tutorial-d45f8bf7bbc4\n",
    "\n",
    "https://gist.github.com/awjuliani/acde9d491658265c3fbf6a74b91518e3#file-deep-layer-visualization-ipynb\n",
    "\n",
    "https://leonardoaraujosantos.gitbooks.io/artificial-inteligence/content/tensorflow.html\n",
    "\n",
    "https://codelabs.developers.google.com/codelabs/cloud-tensorflow-mnist/#4\n",
    "\n",
    "https://github.com/hwalsuklee/tensorflow-mnist-cnn\n",
    "\n",
    "https://danerineuronal.wordpress.com/2017/09/10/ml-04-red-neuronal-basica/\n",
    "\n",
    "http://sisbib.unmsm.edu.pe/Bibvirtual/publicaciones/risi/2009_n2/v6n2/a03v6n2.pdf"
   ]
  }
 ],
 "metadata": {
  "kernelspec": {
   "display_name": "Python 3",
   "language": "python",
   "name": "python3"
  },
  "language_info": {
   "codemirror_mode": {
    "name": "ipython",
    "version": 3
   },
   "file_extension": ".py",
   "mimetype": "text/x-python",
   "name": "python",
   "nbconvert_exporter": "python",
   "pygments_lexer": "ipython3",
   "version": "3.5.2"
  }
 },
 "nbformat": 4,
 "nbformat_minor": 2
}
